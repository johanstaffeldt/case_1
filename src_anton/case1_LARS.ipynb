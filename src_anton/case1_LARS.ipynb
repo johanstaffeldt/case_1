{
 "cells": [
  {
   "cell_type": "markdown",
   "metadata": {},
   "source": [
    "### LARS"
   ]
  },
  {
   "cell_type": "markdown",
   "metadata": {},
   "source": [
    "imports"
   ]
  },
  {
   "cell_type": "code",
   "execution_count": 6,
   "metadata": {},
   "outputs": [],
   "source": [
    "\n",
    "import scipy.io\n",
    "import numpy as np\n",
    "import math\n",
    "from sklearn import linear_model \n",
    "import pandas as pd\n",
    "from scipy import linalg\n",
    "from sklearn import preprocessing as preproc # load preprocessing function\n",
    "import matplotlib.pyplot as plt \n",
    "import matplotlib.colors as colors\n",
    "from sklearn.model_selection import KFold\n",
    "\n",
    "# seaborn can be used to \"prettify\" default matplotlib plots by importing and setting as default\n",
    "import seaborn as sns\n",
    "sns.set() # Set searborn as default"
   ]
  },
  {
   "cell_type": "code",
   "execution_count": 7,
   "metadata": {},
   "outputs": [],
   "source": [
    "# Load the data from the CSV file                                 \n",
    "data = np.genfromtxt('case1Data.csv', delimiter=',', skip_header=1,    \n",
    "filling_values=np.nan)                                            \n",
    "\n",
    "y = data[:, 0]\n",
    "X = data[:, 1:]\n",
    "\n",
    "[n, p] = X.shape\n",
    "\n",
    "#Pandas dataframe\n",
    "df = pd.read_csv(\"case1Data.csv\")  # Replace with actual filename\n",
    "df_new = pd.read_csv(\"case1Data_Xnew.csv\")  # Replace with actual filename"
   ]
  },
  {
   "cell_type": "markdown",
   "metadata": {},
   "source": [
    "Wrangling"
   ]
  },
  {
   "cell_type": "code",
   "execution_count": 8,
   "metadata": {},
   "outputs": [],
   "source": [
    "\n",
    "#Mode imputation for the categorical features\n",
    "df.iloc[:, -5:] = df.iloc[:, -5:].apply(lambda col: col.fillna(col.mode()[0]))\n",
    "df_new.iloc[:, -5:] = df_new.iloc[:, -5:].apply(lambda col: col.fillna(col.mode()[0]))\n",
    "\n",
    "#Filling out the missing values in the numerical features with the mean\n",
    "df.iloc[:, 1:-5] = df.iloc[:, 1:-5].apply(lambda col: col.fillna(col.mean()))\n",
    "\n",
    "#One-hot encoding the categorical features\n",
    "df = pd.get_dummies(df, columns=df.columns[-5:], dtype=int)\n",
    "\n",
    "# Convert the numerical columns to float before applying standardization\n",
    "df.iloc[:, :-36] = df.iloc[:, :-36].astype(float)\n",
    "\n",
    "#MAking np arrays for data\n",
    "y = df.iloc[:, 0].to_numpy()\n",
    "X = df.iloc[:, 1:].to_numpy()"
   ]
  },
  {
   "cell_type": "markdown",
   "metadata": {},
   "source": [
    "LARS"
   ]
  },
  {
   "cell_type": "code",
   "execution_count": null,
   "metadata": {},
   "outputs": [
    {
     "name": "stdout",
     "output_type": "stream",
     "text": [
      "4.297850526808495e-25\n"
     ]
    }
   ],
   "source": [
    "\n",
    "betas, res, rnk, s = linalg.lstsq(X, y)\n",
    "y_ols = X@betas\n",
    "# Using the mean squared error (MSE) of a low bias model (OLS) as the estimate for the noise variance\n",
    "s2 = np.mean((y-y_ols)**2)  \n",
    "print(s2)"
   ]
  }
 ],
 "metadata": {
  "kernelspec": {
   "display_name": "base",
   "language": "python",
   "name": "python3"
  },
  "language_info": {
   "codemirror_mode": {
    "name": "ipython",
    "version": 3
   },
   "file_extension": ".py",
   "mimetype": "text/x-python",
   "name": "python",
   "nbconvert_exporter": "python",
   "pygments_lexer": "ipython3",
   "version": "3.12.8"
  }
 },
 "nbformat": 4,
 "nbformat_minor": 2
}
