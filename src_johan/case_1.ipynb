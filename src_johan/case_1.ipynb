{
 "cells": [
  {
   "cell_type": "markdown",
   "metadata": {},
   "source": [
    "# Case 1"
   ]
  },
  {
   "cell_type": "markdown",
   "metadata": {},
   "source": [
    "## Import libraries"
   ]
  },
  {
   "cell_type": "code",
   "execution_count": 285,
   "metadata": {},
   "outputs": [],
   "source": [
    "import numpy as np\n",
    "import pandas as pd\n",
    "\n",
    "%matplotlib inline\n",
    "import matplotlib.pyplot as plt\n",
    "\n",
    "from sklearn.impute import KNNImputer\n",
    "\n",
    "import scipy . linalg as lng # linear algebra from scipy library\n",
    "from sklearn import preprocessing as preproc # preprocessing from sklearn library\n",
    "\n",
    "from sklearn.linear_model import RidgeCV\n",
    "from sklearn.preprocessing import StandardScaler\n",
    "\n",
    "from sklearn.ensemble import AdaBoostRegressor\n",
    "from sklearn.tree import DecisionTreeRegressor\n",
    "from sklearn.model_selection import GridSearchCV\n",
    "\n",
    "\n",
    "from scipy . spatial import distance # load distance function\n",
    "from sklearn import preprocessing as preproc # load preprocessing function\n",
    "\n",
    "# seaborn can be used to \"prettify\" default matplotlib plots by importing and setting as default\n",
    "import seaborn as sns\n",
    "sns.set() # Set searborn as default\n",
    "\n",
    "from sklearn.model_selection import train_test_split, cross_val_score\n",
    "from sklearn.ensemble import RandomForestRegressor\n",
    "from sklearn.metrics import accuracy_score\n",
    "from sklearn.metrics import mean_squared_error\n",
    "\n",
    "from sklearn.model_selection import RandomizedSearchCV\n"
   ]
  },
  {
   "cell_type": "markdown",
   "metadata": {},
   "source": [
    "## Load data"
   ]
  },
  {
   "cell_type": "code",
   "execution_count": 286,
   "metadata": {},
   "outputs": [
    {
     "name": "stdout",
     "output_type": "stream",
     "text": [
      "(100, 101)\n",
      "(1000, 100)\n",
      "(100, 101)\n",
      "(1000, 100)\n"
     ]
    }
   ],
   "source": [
    "# Path to the data files\n",
    "data_path_1 = '../data/case1Data.csv'\n",
    "data_path_2 = '../data/case1Data_Xnew.csv'\n",
    "\n",
    "# Load the data into a numpy array\n",
    "data_np = np.loadtxt(data_path_1, delimiter=',', skiprows=1)\n",
    "data_np_new = np.loadtxt(data_path_2, delimiter=',', skiprows=1)\n",
    "\n",
    "# Print the shape of the data in the numpy array\n",
    "print(data_np.shape) # 100 rows and 101 columns (100 features and 1 target)\n",
    "print(data_np_new.shape) # 1000 rows and 100 columns (100 features and no target)\n",
    "\n",
    "# Create a pandas dataframe and use the first row as the column names\n",
    "data_pd = pd.read_csv(data_path_1, sep=',', header=0)\n",
    "data_pd_new = pd.read_csv(data_path_2, sep=',', header=0)\n",
    "\n",
    "# Print the shape of the data in the pandas dataframe\n",
    "print(data_pd.shape)\n",
    "print(data_pd_new.shape)"
   ]
  },
  {
   "cell_type": "markdown",
   "metadata": {},
   "source": [
    "## Data wrangling"
   ]
  },
  {
   "cell_type": "markdown",
   "metadata": {},
   "source": [
    "### Splitting the data into train and test"
   ]
  },
  {
   "cell_type": "code",
   "execution_count": 287,
   "metadata": {},
   "outputs": [
    {
     "name": "stdout",
     "output_type": "stream",
     "text": [
      "X:  (100, 100)\n",
      "y:  (100,)\n"
     ]
    }
   ],
   "source": [
    "# Split the data into features and target\n",
    "X = data_pd.iloc[:, 1:]\n",
    "y = data_pd.iloc[:, 0]\n",
    "\n",
    "print(\"X: \", X.shape)\n",
    "print(\"y: \", y.shape)\n",
    "\n",
    "#Split into train and test\n",
    "X_train, X_test, y_train, y_test = train_test_split(X, y, test_size=0.2, random_state=42)"
   ]
  },
  {
   "cell_type": "markdown",
   "metadata": {},
   "source": [
    "### Standardization of numerical values"
   ]
  },
  {
   "cell_type": "code",
   "execution_count": null,
   "metadata": {},
   "outputs": [],
   "source": []
  },
  {
   "cell_type": "markdown",
   "metadata": {},
   "source": [
    "### Handling missing values\n",
    "\n",
    "Possible methods:\n",
    "- Drop rows\n",
    "- Imputation: Mean, Median, Mode\n",
    "- Interolation: Linear, Quadratic\n",
    "- K-Nearest Neighbors (KNN)"
   ]
  },
  {
   "cell_type": "code",
   "execution_count": 288,
   "metadata": {},
   "outputs": [],
   "source": [
    "# Use KNNImputer from scikit-learn to impute the missing values in the data with the mean of the k-nearest neighbors\n",
    "\n",
    "# class sklearn.impute.KNNImputer(*, missing_values=nan, n_neighbors=5, weights='uniform', metric='nan_euclidean', copy=True, add_indicator=False, keep_empty_features=False)\n",
    "imputer = KNNImputer(n_neighbors=5, missing_values=np.nan)\n",
    "\n",
    "# Fit the imputer on the data and transform the data\n",
    "X_train_imputed = pd.DataFrame(imputer.fit_transform(X_train))\n",
    "X_test_imputed = pd.DataFrame(imputer.transform(X_test))"
   ]
  },
  {
   "cell_type": "markdown",
   "metadata": {},
   "source": [
    "### One-hot encoding of categorical variables"
   ]
  },
  {
   "cell_type": "code",
   "execution_count": 289,
   "metadata": {},
   "outputs": [
    {
     "name": "stdout",
     "output_type": "stream",
     "text": [
      "X_train_imputed:  (80, 116)\n",
      "X_test_imputed:  (20, 116)\n"
     ]
    }
   ],
   "source": [
    "# Round the last 5 columns to a whole number\n",
    "X_train_imputed.iloc[:, -5:] = np.round(X_train_imputed.iloc[:, -5:])\n",
    "X_test_imputed.iloc[:, -5:] = np.round(X_test_imputed.iloc[:, -5:])\n",
    "\n",
    "# One hot encode the data\n",
    "X_train_imputed = pd.get_dummies(X_train_imputed, columns=X_train_imputed.columns[-5:])\n",
    "X_test_imputed = pd.get_dummies(X_test_imputed, columns=X_test_imputed.columns[-5:])\n",
    "\n",
    "print(\"X_train_imputed: \", X_train_imputed.shape)\n",
    "print(\"X_test_imputed: \", X_test_imputed.shape)"
   ]
  },
  {
   "cell_type": "markdown",
   "metadata": {},
   "source": [
    "### Standardization of numerical features"
   ]
  },
  {
   "cell_type": "code",
   "execution_count": 290,
   "metadata": {},
   "outputs": [],
   "source": [
    "# Convert the numerical columns to float before applying standardization\n",
    "X_train_imputed.iloc[:, :-21] = X_train_imputed.iloc[:, :-21].astype(float)\n",
    "X_test_imputed.iloc[:, :-21] = X_test_imputed.iloc[:, :-21].astype(float)\n",
    "\n",
    "# Standardizing the numerical features and targets: z = (x - u) / sd\n",
    "scaler = preproc.StandardScaler()\n",
    "X_train.iloc[:, :-21] = scaler.fit_transform(X_train.iloc[:, :-21])\n",
    "X_test.iloc[:, :-21] = scaler.transform(X_test.iloc[:, :-21])\n",
    "y_train = scaler.fit_transform(y_train.values.reshape(-1, 1))\n",
    "y_test = scaler.transform(y_test.values.reshape(-1, 1))"
   ]
  },
  {
   "cell_type": "code",
   "execution_count": 296,
   "metadata": {},
   "outputs": [
    {
     "name": "stdout",
     "output_type": "stream",
     "text": [
      "X_train:  (80, 116)\n",
      "X_test:  (20, 116)\n",
      "y_train:  (80,)\n",
      "y_test:  (20,)\n"
     ]
    }
   ],
   "source": [
    "# Save names as X_train, X_test, y_train, y_test\n",
    "X_train = np.asarray(X_train_imputed, dtype=np.float64)\n",
    "X_test = np.asarray(X_test_imputed, dtype=np.float64)\n",
    "y_train = np.asarray(y_train, dtype=np.float64)\n",
    "y_test = np.asarray(y_test, dtype=np.float64)\n",
    "\n",
    "print(\"X_train: \", X_train.shape)\n",
    "print(\"X_test: \", X_test.shape)\n",
    "print(\"y_train: \", y_train.shape)\n",
    "print(\"y_test: \", y_test.shape)"
   ]
  },
  {
   "cell_type": "code",
   "execution_count": 301,
   "metadata": {},
   "outputs": [],
   "source": [
    "# Save the data in a new csv file\n",
    "np.savetxt('../data/case1Data_Xtrain.csv', X_train, delimiter=',')\n",
    "np.savetxt('../data/case1Data_Xtest.csv', X_test, delimiter=',')\n",
    "np.savetxt('../data/case1Data_ytrain.csv', y_train, delimiter=',')\n",
    "np.savetxt('../data/case1Data_ytest.csv', y_test, delimiter=',')"
   ]
  },
  {
   "cell_type": "markdown",
   "metadata": {},
   "source": [
    "## Feature selection"
   ]
  },
  {
   "cell_type": "code",
   "execution_count": null,
   "metadata": {},
   "outputs": [],
   "source": []
  },
  {
   "cell_type": "markdown",
   "metadata": {},
   "source": [
    "## Building models"
   ]
  },
  {
   "cell_type": "markdown",
   "metadata": {},
   "source": [
    "OLS fra Anton:"
   ]
  },
  {
   "cell_type": "code",
   "execution_count": 297,
   "metadata": {},
   "outputs": [
    {
     "name": "stdout",
     "output_type": "stream",
     "text": [
      "MSE: 0.22463369486388635\n",
      "Root MSE: 0.4739553722281101\n",
      "Residual sum of squares: 4.492673897277727\n",
      "Total sum of squares: 520031.4508322642\n",
      "R2: 99.99913607650267\n"
     ]
    }
   ],
   "source": [
    "def ols_solver(X, y):\n",
    "    betas, res, rnk, s = lng.lstsq(X, y)\n",
    "    return betas, res, rnk, s\n",
    "\n",
    "#Estimate the model parameters\n",
    "betas, residuals, rnk, s = ols_solver(X_train, y_train)\n",
    "\n",
    "#Calculate y_hat\n",
    "y_hat = X_test @ betas\n",
    "\n",
    "res_solv_man = (y_test - y_hat) ** 2    \n",
    "mse = np.mean(res_solv_man)\n",
    "\n",
    "print(f'MSE: {mse}') # lng.lstsq returns sum of squared residuals, so we divide by num of obs to get mean\n",
    "\n",
    "print(f'Root MSE: {np.sqrt(mse)}')\n",
    "\n",
    "rss = np.sum(res_solv_man)\n",
    "print(f'Residual sum of squares: {rss}')\n",
    "\n",
    "tss = np.sum((y - np.mean(y))** 2)\n",
    "print(f'Total sum of squares: {tss}')\n",
    "\n",
    "r2 = (1 - rss / tss) * 100\n",
    "print(f'R2: {r2}')"
   ]
  },
  {
   "cell_type": "code",
   "execution_count": 298,
   "metadata": {},
   "outputs": [
    {
     "data": {
      "image/png": "[encoded data removed]",
      "text/plain": [
       "<Figure size 640x480 with 1 Axes>"
      ]
     },
     "metadata": {},
     "output_type": "display_data"
    }
   ],
   "source": [
    "def ridgeMulti(X, _lambda, p, y):\n",
    "    inner_prod = np.linalg.inv(X.T @ X + _lambda * np.eye(p,p))\n",
    "    outer_prod = X.T @ y\n",
    "    betas = inner_prod @ outer_prod\n",
    "    return betas\n",
    "k = 100; # try k values of lambda\n",
    "lambdas = np.logspace(-4, 4, k)\n",
    "\n",
    "betas = np.zeros((p,k))\n",
    "\n",
    "for i in range(k):\n",
    "    betas[:, i] = ridgeMulti(X, lambdas[i], p, y)\n",
    "    \n",
    "plt.figure()\n",
    "plt.semilogx(lambdas, betas.T )\n",
    "plt.xlabel(\"Lambdas\")\n",
    "plt.ylabel(\"Betas\")\n",
    "plt.suptitle(\"Regularized beta estimates\", fontsize=20)\n",
    "plt.show()\n"
   ]
  },
  {
   "cell_type": "code",
   "execution_count": 299,
   "metadata": {},
   "outputs": [
    {
     "name": "stderr",
     "output_type": "stream",
     "text": [
      "/opt/anaconda3/lib/python3.12/site-packages/sklearn/linear_model/_ridge.py:2341: FutureWarning: 'store_cv_values' is deprecated in version 1.5 and will be removed in 1.7. Use 'store_cv_results' instead.\n",
      "  warnings.warn(\n"
     ]
    },
    {
     "name": "stdout",
     "output_type": "stream",
     "text": [
      "Optimal lambda: 21.544346900318867\n"
     ]
    }
   ],
   "source": [
    "# Perform RidgeCV with 10-fold cross-validation\n",
    "ridge_cv = RidgeCV(alphas=lambdas, store_cv_values=False, cv=10)\n",
    "ridge_cv.fit(X_train, y_train)\n",
    "\n",
    "# Optimal lambda\n",
    "lambda_OP = ridge_cv.alpha_\n",
    "\n",
    "#print optimal lambda\n",
    "print(f'Optimal lambda: {lambda_OP}')"
   ]
  },
  {
   "cell_type": "code",
   "execution_count": 300,
   "metadata": {},
   "outputs": [
    {
     "name": "stdout",
     "output_type": "stream",
     "text": [
      "Root MSE from OLS with ridge regression and cross validation (RidgeCV): 0.4187978628438156\n"
     ]
    }
   ],
   "source": [
    "# Estimate mse with optimal lambda\n",
    "y_hat = ridge_cv.predict(X_test)\n",
    "mse = np.mean((y_test - y_hat) ** 2)\n",
    "rmse = np.sqrt(mse)\n",
    "print(f'Root MSE from OLS with ridge regression and cross validation (RidgeCV): {rmse}')"
   ]
  },
  {
   "cell_type": "markdown",
   "metadata": {},
   "source": [
    "## Random Forest"
   ]
  },
  {
   "cell_type": "code",
   "execution_count": null,
   "metadata": {},
   "outputs": [
    {
     "name": "stdout",
     "output_type": "stream",
     "text": [
      "Test RMSE for random forest: 0.9363\n"
     ]
    }
   ],
   "source": [
    "# Initialize RandomForestRegressor\n",
    "rf = RandomForestRegressor(n_estimators=100, max_features='sqrt', random_state=42)\n",
    "\n",
    "# Perform cross-validation\n",
    "cv_scores = cross_val_score(rf, X_train, y_train, cv=5, scoring='neg_mean_squared_error')\n",
    "\n",
    "# Train the model\n",
    "rf.fit(X_train, y_train)\n",
    "\n",
    "# Make predictions\n",
    "y_pred = rf.predict(X_test)\n",
    "\n",
    "# Evaluate the model\n",
    "mse = mean_squared_error(y_test, y_pred)\n",
    "rmse = np.sqrt(mean_squared_error(y_test, y_pred))\n",
    "print(f'Test RMSE for random forest: {rmse:.4f}')"
   ]
  },
  {
   "cell_type": "markdown",
   "metadata": {},
   "source": [
    "### + AdaBoost"
   ]
  },
  {
   "cell_type": "code",
   "execution_count": null,
   "metadata": {},
   "outputs": [
    {
     "ename": "KeyboardInterrupt",
     "evalue": "",
     "output_type": "error",
     "traceback": [
      "\u001b[0;31m---------------------------------------------------------------------------\u001b[0m",
      "\u001b[0;31mKeyboardInterrupt\u001b[0m                         Traceback (most recent call last)",
      "Cell \u001b[0;32mIn[150], line 15\u001b[0m\n\u001b[1;32m     12\u001b[0m boost_grid \u001b[38;5;241m=\u001b[39m GridSearchCV(boost, param_grid\u001b[38;5;241m=\u001b[39mparam_grid, cv\u001b[38;5;241m=\u001b[39m\u001b[38;5;241m5\u001b[39m, verbose\u001b[38;5;241m=\u001b[39m\u001b[38;5;241m0\u001b[39m, n_jobs\u001b[38;5;241m=\u001b[39m\u001b[38;5;241m-\u001b[39m\u001b[38;5;241m1\u001b[39m, scoring\u001b[38;5;241m=\u001b[39m\u001b[38;5;124m'\u001b[39m\u001b[38;5;124mneg_mean_squared_error\u001b[39m\u001b[38;5;124m'\u001b[39m)\n\u001b[1;32m     14\u001b[0m \u001b[38;5;66;03m# Fit the model\u001b[39;00m\n\u001b[0;32m---> 15\u001b[0m boost_grid\u001b[38;5;241m.\u001b[39mfit(X_train, y_train)\n\u001b[1;32m     17\u001b[0m \u001b[38;5;66;03m# Get best parameters and score\u001b[39;00m\n\u001b[1;32m     18\u001b[0m best_params \u001b[38;5;241m=\u001b[39m boost_grid\u001b[38;5;241m.\u001b[39mbest_params_\n",
      "File \u001b[0;32m/opt/anaconda3/lib/python3.12/site-packages/sklearn/base.py:1473\u001b[0m, in \u001b[0;36m_fit_context.<locals>.decorator.<locals>.wrapper\u001b[0;34m(estimator, *args, **kwargs)\u001b[0m\n\u001b[1;32m   1466\u001b[0m     estimator\u001b[38;5;241m.\u001b[39m_validate_params()\n\u001b[1;32m   1468\u001b[0m \u001b[38;5;28;01mwith\u001b[39;00m config_context(\n\u001b[1;32m   1469\u001b[0m     skip_parameter_validation\u001b[38;5;241m=\u001b[39m(\n\u001b[1;32m   1470\u001b[0m         prefer_skip_nested_validation \u001b[38;5;129;01mor\u001b[39;00m global_skip_validation\n\u001b[1;32m   1471\u001b[0m     )\n\u001b[1;32m   1472\u001b[0m ):\n\u001b[0;32m-> 1473\u001b[0m     \u001b[38;5;28;01mreturn\u001b[39;00m fit_method(estimator, \u001b[38;5;241m*\u001b[39margs, \u001b[38;5;241m*\u001b[39m\u001b[38;5;241m*\u001b[39mkwargs)\n",
      "File \u001b[0;32m/opt/anaconda3/lib/python3.12/site-packages/sklearn/model_selection/_search.py:1018\u001b[0m, in \u001b[0;36mBaseSearchCV.fit\u001b[0;34m(self, X, y, **params)\u001b[0m\n\u001b[1;32m   1012\u001b[0m     results \u001b[38;5;241m=\u001b[39m \u001b[38;5;28mself\u001b[39m\u001b[38;5;241m.\u001b[39m_format_results(\n\u001b[1;32m   1013\u001b[0m         all_candidate_params, n_splits, all_out, all_more_results\n\u001b[1;32m   1014\u001b[0m     )\n\u001b[1;32m   1016\u001b[0m     \u001b[38;5;28;01mreturn\u001b[39;00m results\n\u001b[0;32m-> 1018\u001b[0m \u001b[38;5;28mself\u001b[39m\u001b[38;5;241m.\u001b[39m_run_search(evaluate_candidates)\n\u001b[1;32m   1020\u001b[0m \u001b[38;5;66;03m# multimetric is determined here because in the case of a callable\u001b[39;00m\n\u001b[1;32m   1021\u001b[0m \u001b[38;5;66;03m# self.scoring the return type is only known after calling\u001b[39;00m\n\u001b[1;32m   1022\u001b[0m first_test_score \u001b[38;5;241m=\u001b[39m all_out[\u001b[38;5;241m0\u001b[39m][\u001b[38;5;124m\"\u001b[39m\u001b[38;5;124mtest_scores\u001b[39m\u001b[38;5;124m\"\u001b[39m]\n",
      "File \u001b[0;32m/opt/anaconda3/lib/python3.12/site-packages/sklearn/model_selection/_search.py:1572\u001b[0m, in \u001b[0;36mGridSearchCV._run_search\u001b[0;34m(self, evaluate_candidates)\u001b[0m\n\u001b[1;32m   1570\u001b[0m \u001b[38;5;28;01mdef\u001b[39;00m \u001b[38;5;21m_run_search\u001b[39m(\u001b[38;5;28mself\u001b[39m, evaluate_candidates):\n\u001b[1;32m   1571\u001b[0m \u001b[38;5;250m    \u001b[39m\u001b[38;5;124;03m\"\"\"Search all candidates in param_grid\"\"\"\u001b[39;00m\n\u001b[0;32m-> 1572\u001b[0m     evaluate_candidates(ParameterGrid(\u001b[38;5;28mself\u001b[39m\u001b[38;5;241m.\u001b[39mparam_grid))\n",
      "File \u001b[0;32m/opt/anaconda3/lib/python3.12/site-packages/sklearn/model_selection/_search.py:964\u001b[0m, in \u001b[0;36mBaseSearchCV.fit.<locals>.evaluate_candidates\u001b[0;34m(candidate_params, cv, more_results)\u001b[0m\n\u001b[1;32m    956\u001b[0m \u001b[38;5;28;01mif\u001b[39;00m \u001b[38;5;28mself\u001b[39m\u001b[38;5;241m.\u001b[39mverbose \u001b[38;5;241m>\u001b[39m \u001b[38;5;241m0\u001b[39m:\n\u001b[1;32m    957\u001b[0m     \u001b[38;5;28mprint\u001b[39m(\n\u001b[1;32m    958\u001b[0m         \u001b[38;5;124m\"\u001b[39m\u001b[38;5;124mFitting \u001b[39m\u001b[38;5;132;01m{0}\u001b[39;00m\u001b[38;5;124m folds for each of \u001b[39m\u001b[38;5;132;01m{1}\u001b[39;00m\u001b[38;5;124m candidates,\u001b[39m\u001b[38;5;124m\"\u001b[39m\n\u001b[1;32m    959\u001b[0m         \u001b[38;5;124m\"\u001b[39m\u001b[38;5;124m totalling \u001b[39m\u001b[38;5;132;01m{2}\u001b[39;00m\u001b[38;5;124m fits\u001b[39m\u001b[38;5;124m\"\u001b[39m\u001b[38;5;241m.\u001b[39mformat(\n\u001b[1;32m    960\u001b[0m             n_splits, n_candidates, n_candidates \u001b[38;5;241m*\u001b[39m n_splits\n\u001b[1;32m    961\u001b[0m         )\n\u001b[1;32m    962\u001b[0m     )\n\u001b[0;32m--> 964\u001b[0m out \u001b[38;5;241m=\u001b[39m parallel(\n\u001b[1;32m    965\u001b[0m     delayed(_fit_and_score)(\n\u001b[1;32m    966\u001b[0m         clone(base_estimator),\n\u001b[1;32m    967\u001b[0m         X,\n\u001b[1;32m    968\u001b[0m         y,\n\u001b[1;32m    969\u001b[0m         train\u001b[38;5;241m=\u001b[39mtrain,\n\u001b[1;32m    970\u001b[0m         test\u001b[38;5;241m=\u001b[39mtest,\n\u001b[1;32m    971\u001b[0m         parameters\u001b[38;5;241m=\u001b[39mparameters,\n\u001b[1;32m    972\u001b[0m         split_progress\u001b[38;5;241m=\u001b[39m(split_idx, n_splits),\n\u001b[1;32m    973\u001b[0m         candidate_progress\u001b[38;5;241m=\u001b[39m(cand_idx, n_candidates),\n\u001b[1;32m    974\u001b[0m         \u001b[38;5;241m*\u001b[39m\u001b[38;5;241m*\u001b[39mfit_and_score_kwargs,\n\u001b[1;32m    975\u001b[0m     )\n\u001b[1;32m    976\u001b[0m     \u001b[38;5;28;01mfor\u001b[39;00m (cand_idx, parameters), (split_idx, (train, test)) \u001b[38;5;129;01min\u001b[39;00m product(\n\u001b[1;32m    977\u001b[0m         \u001b[38;5;28menumerate\u001b[39m(candidate_params),\n\u001b[1;32m    978\u001b[0m         \u001b[38;5;28menumerate\u001b[39m(cv\u001b[38;5;241m.\u001b[39msplit(X, y, \u001b[38;5;241m*\u001b[39m\u001b[38;5;241m*\u001b[39mrouted_params\u001b[38;5;241m.\u001b[39msplitter\u001b[38;5;241m.\u001b[39msplit)),\n\u001b[1;32m    979\u001b[0m     )\n\u001b[1;32m    980\u001b[0m )\n\u001b[1;32m    982\u001b[0m \u001b[38;5;28;01mif\u001b[39;00m \u001b[38;5;28mlen\u001b[39m(out) \u001b[38;5;241m<\u001b[39m \u001b[38;5;241m1\u001b[39m:\n\u001b[1;32m    983\u001b[0m     \u001b[38;5;28;01mraise\u001b[39;00m \u001b[38;5;167;01mValueError\u001b[39;00m(\n\u001b[1;32m    984\u001b[0m         \u001b[38;5;124m\"\u001b[39m\u001b[38;5;124mNo fits were performed. \u001b[39m\u001b[38;5;124m\"\u001b[39m\n\u001b[1;32m    985\u001b[0m         \u001b[38;5;124m\"\u001b[39m\u001b[38;5;124mWas the CV iterator empty? \u001b[39m\u001b[38;5;124m\"\u001b[39m\n\u001b[1;32m    986\u001b[0m         \u001b[38;5;124m\"\u001b[39m\u001b[38;5;124mWere there no candidates?\u001b[39m\u001b[38;5;124m\"\u001b[39m\n\u001b[1;32m    987\u001b[0m     )\n",
      "File \u001b[0;32m/opt/anaconda3/lib/python3.12/site-packages/sklearn/utils/parallel.py:74\u001b[0m, in \u001b[0;36mParallel.__call__\u001b[0;34m(self, iterable)\u001b[0m\n\u001b[1;32m     69\u001b[0m config \u001b[38;5;241m=\u001b[39m get_config()\n\u001b[1;32m     70\u001b[0m iterable_with_config \u001b[38;5;241m=\u001b[39m (\n\u001b[1;32m     71\u001b[0m     (_with_config(delayed_func, config), args, kwargs)\n\u001b[1;32m     72\u001b[0m     \u001b[38;5;28;01mfor\u001b[39;00m delayed_func, args, kwargs \u001b[38;5;129;01min\u001b[39;00m iterable\n\u001b[1;32m     73\u001b[0m )\n\u001b[0;32m---> 74\u001b[0m \u001b[38;5;28;01mreturn\u001b[39;00m \u001b[38;5;28msuper\u001b[39m()\u001b[38;5;241m.\u001b[39m\u001b[38;5;21m__call__\u001b[39m(iterable_with_config)\n",
      "File \u001b[0;32m/opt/anaconda3/lib/python3.12/site-packages/joblib/parallel.py:2007\u001b[0m, in \u001b[0;36mParallel.__call__\u001b[0;34m(self, iterable)\u001b[0m\n\u001b[1;32m   2001\u001b[0m \u001b[38;5;66;03m# The first item from the output is blank, but it makes the interpreter\u001b[39;00m\n\u001b[1;32m   2002\u001b[0m \u001b[38;5;66;03m# progress until it enters the Try/Except block of the generator and\u001b[39;00m\n\u001b[1;32m   2003\u001b[0m \u001b[38;5;66;03m# reaches the first `yield` statement. This starts the asynchronous\u001b[39;00m\n\u001b[1;32m   2004\u001b[0m \u001b[38;5;66;03m# dispatch of the tasks to the workers.\u001b[39;00m\n\u001b[1;32m   2005\u001b[0m \u001b[38;5;28mnext\u001b[39m(output)\n\u001b[0;32m-> 2007\u001b[0m \u001b[38;5;28;01mreturn\u001b[39;00m output \u001b[38;5;28;01mif\u001b[39;00m \u001b[38;5;28mself\u001b[39m\u001b[38;5;241m.\u001b[39mreturn_generator \u001b[38;5;28;01melse\u001b[39;00m \u001b[38;5;28mlist\u001b[39m(output)\n",
      "File \u001b[0;32m/opt/anaconda3/lib/python3.12/site-packages/joblib/parallel.py:1650\u001b[0m, in \u001b[0;36mParallel._get_outputs\u001b[0;34m(self, iterator, pre_dispatch)\u001b[0m\n\u001b[1;32m   1647\u001b[0m     \u001b[38;5;28;01myield\u001b[39;00m\n\u001b[1;32m   1649\u001b[0m     \u001b[38;5;28;01mwith\u001b[39;00m \u001b[38;5;28mself\u001b[39m\u001b[38;5;241m.\u001b[39m_backend\u001b[38;5;241m.\u001b[39mretrieval_context():\n\u001b[0;32m-> 1650\u001b[0m         \u001b[38;5;28;01myield from\u001b[39;00m \u001b[38;5;28mself\u001b[39m\u001b[38;5;241m.\u001b[39m_retrieve()\n\u001b[1;32m   1652\u001b[0m \u001b[38;5;28;01mexcept\u001b[39;00m \u001b[38;5;167;01mGeneratorExit\u001b[39;00m:\n\u001b[1;32m   1653\u001b[0m     \u001b[38;5;66;03m# The generator has been garbage collected before being fully\u001b[39;00m\n\u001b[1;32m   1654\u001b[0m     \u001b[38;5;66;03m# consumed. This aborts the remaining tasks if possible and warn\u001b[39;00m\n\u001b[1;32m   1655\u001b[0m     \u001b[38;5;66;03m# the user if necessary.\u001b[39;00m\n\u001b[1;32m   1656\u001b[0m     \u001b[38;5;28mself\u001b[39m\u001b[38;5;241m.\u001b[39m_exception \u001b[38;5;241m=\u001b[39m \u001b[38;5;28;01mTrue\u001b[39;00m\n",
      "File \u001b[0;32m/opt/anaconda3/lib/python3.12/site-packages/joblib/parallel.py:1762\u001b[0m, in \u001b[0;36mParallel._retrieve\u001b[0;34m(self)\u001b[0m\n\u001b[1;32m   1757\u001b[0m \u001b[38;5;66;03m# If the next job is not ready for retrieval yet, we just wait for\u001b[39;00m\n\u001b[1;32m   1758\u001b[0m \u001b[38;5;66;03m# async callbacks to progress.\u001b[39;00m\n\u001b[1;32m   1759\u001b[0m \u001b[38;5;28;01mif\u001b[39;00m ((\u001b[38;5;28mlen\u001b[39m(\u001b[38;5;28mself\u001b[39m\u001b[38;5;241m.\u001b[39m_jobs) \u001b[38;5;241m==\u001b[39m \u001b[38;5;241m0\u001b[39m) \u001b[38;5;129;01mor\u001b[39;00m\n\u001b[1;32m   1760\u001b[0m     (\u001b[38;5;28mself\u001b[39m\u001b[38;5;241m.\u001b[39m_jobs[\u001b[38;5;241m0\u001b[39m]\u001b[38;5;241m.\u001b[39mget_status(\n\u001b[1;32m   1761\u001b[0m         timeout\u001b[38;5;241m=\u001b[39m\u001b[38;5;28mself\u001b[39m\u001b[38;5;241m.\u001b[39mtimeout) \u001b[38;5;241m==\u001b[39m TASK_PENDING)):\n\u001b[0;32m-> 1762\u001b[0m     time\u001b[38;5;241m.\u001b[39msleep(\u001b[38;5;241m0.01\u001b[39m)\n\u001b[1;32m   1763\u001b[0m     \u001b[38;5;28;01mcontinue\u001b[39;00m\n\u001b[1;32m   1765\u001b[0m \u001b[38;5;66;03m# We need to be careful: the job list can be filling up as\u001b[39;00m\n\u001b[1;32m   1766\u001b[0m \u001b[38;5;66;03m# we empty it and Python list are not thread-safe by\u001b[39;00m\n\u001b[1;32m   1767\u001b[0m \u001b[38;5;66;03m# default hence the use of the lock\u001b[39;00m\n",
      "\u001b[0;31mKeyboardInterrupt\u001b[0m: "
     ]
    }
   ],
   "source": [
    "## Define parameter grid\n",
    "#param_grid = {\n",
    "#    'n_estimators': range(10, 200, 10),\n",
    "#    'estimator__max_depth': range(1, 21),\n",
    "#    'learning_rate': np.logspace(-2, 0, 10),\n",
    "#}\n",
    "#\n",
    "## Create an AdaBoostRegressor with a DecisionTreeRegressor as the base estimator\n",
    "#boost = AdaBoostRegressor(estimator=DecisionTreeRegressor(), learning_rate=1)\n",
    "#\n",
    "## Perform grid search with 5-fold cross-validation\n",
    "#boost_grid = GridSearchCV(boost, param_grid=param_grid, cv=5, verbose=0, n_jobs=-1, scoring='neg_mean_squared_error')\n",
    "#\n",
    "## Fit the model\n",
    "#boost_grid.fit(X_train, y_train)\n",
    "#\n",
    "## Get best parameters and score\n",
    "#best_params = boost_grid.best_params_\n",
    "#best_score = -boost_grid.best_score_  # Convert back to positive MSE\n",
    "#\n",
    "## Use the best model to make predictions\n",
    "#y_pred = boost_grid.predict(X_test)\n",
    "#\n",
    "## Evaluate the model\n",
    "#rmse = np.sqrt(mean_squared_error(y_test, y_pred))\n",
    "#print(f'Test RMSE for AdaBoost: {rmse:.4f}')"
   ]
  },
  {
   "cell_type": "code",
   "execution_count": null,
   "metadata": {},
   "outputs": [
    {
     "name": "stdout",
     "output_type": "stream",
     "text": [
      "Fitting 5 folds for each of 30 candidates, totalling 150 fits\n",
      "Best Parameters: {'n_estimators': 155, 'learning_rate': 1.0, 'estimator__max_depth': 14}\n",
      "Best MSE: 0.36463785424835243\n"
     ]
    }
   ],
   "source": [
    "# Define parameter distributions\n",
    "param_dist = {\n",
    "    'n_estimators': range(10, 200, 10),  # Finer granularity in useful range\n",
    "    'estimator__max_depth': range(1, 21),  # Avoid deep trees for small sample sizes\n",
    "    'learning_rate': np.logspace(-2, 0, 10),  # Log-spaced learning rates from 0.01 to 1\n",
    "}\n",
    "\n",
    "# Create AdaBoostRegressor with DecisionTreeRegressor as base estimator\n",
    "boost = AdaBoostRegressor(estimator=DecisionTreeRegressor())\n",
    "\n",
    "# Use RandomizedSearchCV for efficiency\n",
    "boost_search = RandomizedSearchCV(\n",
    "    boost,\n",
    "    param_distributions=param_dist,\n",
    "    n_iter=30,  # Adjust based on computational resources\n",
    "    cv=5,\n",
    "    verbose=1,\n",
    "    n_jobs=-1,\n",
    "    scoring='neg_mean_squared_error',\n",
    "    random_state=42\n",
    ")\n",
    "\n",
    "# Fit the model\n",
    "boost_search.fit(X, y)\n",
    "\n",
    "# Get best parameters and score\n",
    "best_params = boost_search.best_params_\n",
    "best_score = -boost_search.best_score_  # Convert back to positive MSE\n",
    "\n",
    "# Use the best model to make predictions\n",
    "y_pred = boost_grid.predict(X_test)\n",
    "\n",
    "# Evaluate the model\n",
    "rmse = np.sqrt(mean_squared_error(y_test, y_pred))\n",
    "print(f'Test RMSE for AdaBoost: {rmse:.4f}')\n"
   ]
  },
  {
   "cell_type": "markdown",
   "metadata": {},
   "source": [
    "## KNN\n",
    "\n",
    "Average values of K-nearest neighbors"
   ]
  },
  {
   "cell_type": "code",
   "execution_count": null,
   "metadata": {},
   "outputs": [
    {
     "name": "stdout",
     "output_type": "stream",
     "text": [
      "MSE value for K = 5 is: 0.9277900711262045\n"
     ]
    }
   ],
   "source": [
    "def knn(K, X, n):\n",
    "    yhat = np.zeros(n)\n",
    "    distances = np.zeros(n)\n",
    "    # For each obs, compare distance to all other points in X\n",
    "    for i in range(n):\n",
    "        for j in range(n):\n",
    "            distances[j] = distance.euclidean(X[i,:], X[j, :])\n",
    "\n",
    "        # Sort all the distances\n",
    "        idx = np.argsort(distances)[1:(K + 1)] # Skip first, as distance to \"itself\" does not make sense\n",
    "\n",
    "        yhat[i] = np.mean(y[idx]) # Final value is mean of nearest neighbors\n",
    "        \n",
    "    return yhat\n",
    "\n",
    "K = 5 # number of neighbours\n",
    "yhat = knn(K, X, n)\n",
    "mse = np.mean((y-yhat) ** 2)\n",
    "# test implementation\n",
    "print(f'MSE value for K = {K} is: {mse}')"
   ]
  },
  {
   "cell_type": "code",
   "execution_count": null,
   "metadata": {},
   "outputs": [
    {
     "name": "stdout",
     "output_type": "stream",
     "text": [
      "MSE value for K = 5 is: 0.9254351664103421\n"
     ]
    }
   ],
   "source": [
    "def weighted_knn(K, X, n):\n",
    "    yhat = np.zeros(n)\n",
    "    distances = np.zeros(n)\n",
    "    # For each obs, compare distance to all other points in X\n",
    "    for i in range(n):\n",
    "        for j in range(n):\n",
    "            distances[j] = distance.euclidean(X[i,:], X[j, :])\n",
    "\n",
    "        # Sort all the distances\n",
    "        idx = np.argsort(distances)[1:(K + 1)] # Skip first, as distance to \"itself\" does not make sense\n",
    "        Wt = sum(distances[idx]) # Weight of k nearest neighbors\n",
    "        W = distances[idx] / Wt # Weighing average\n",
    "\n",
    "        yhat[i] = np.matmul(W.T, y[idx]) # Final value is weighted combination of neighbours\n",
    "    \n",
    "    return yhat\n",
    "\n",
    "K = 5 # number of neighbours\n",
    "yhat = weighted_knn(K, X, n)\n",
    "mse = np.mean((y-yhat) ** 2)\n",
    "# test implementation\n",
    "print(f'MSE value for K = {K} is: {mse}')"
   ]
  },
  {
   "cell_type": "code",
   "execution_count": null,
   "metadata": {},
   "outputs": [
    {
     "name": "stdout",
     "output_type": "stream",
     "text": [
      "MSE value for K = 1 is: 1.6810006937744422\n",
      "MSE value for K = 2 is: 1.1223769291172114\n",
      "MSE value for K = 3 is: 1.0674711790807117\n",
      "MSE value for K = 4 is: 0.9988907853959129\n",
      "MSE value for K = 5 is: 0.9277900711262045\n",
      "MSE value for K = 6 is: 0.9166823229487879\n",
      "MSE value for K = 7 is: 0.8772599018168795\n",
      "MSE value for K = 8 is: 0.8913033285576388\n",
      "MSE value for K = 9 is: 0.8853694059768771\n",
      "MSE value for K = 10 is: 0.9198886494550605\n",
      "MSE value for K = 11 is: 0.8998989872099773\n",
      "MSE value for K = 12 is: 0.8950338452320991\n",
      "MSE value for K = 13 is: 0.8806989984503599\n",
      "MSE value for K = 14 is: 0.8547153763141805\n",
      "MSE value for K = 15 is: 0.862818926468324\n",
      "MSE value for K = 16 is: 0.8470151393815618\n",
      "MSE value for K = 17 is: 0.8660826833776311\n",
      "MSE value for K = 18 is: 0.8650692993717118\n",
      "MSE value for K = 19 is: 0.8708559013723629\n",
      "MSE value for K = 20 is: 0.8799831832982803\n",
      "\n",
      "K = 16 has the lowest MSE: 0.8470151393815618\n"
     ]
    },
    {
     "data": {
      "image/png": "[encoded data removed]",
      "text/plain": [
       "<Figure size 640x480 with 1 Axes>"
      ]
     },
     "metadata": {},
     "output_type": "display_data"
    }
   ],
   "source": [
    "mse_values = [] #to store mse values for different k\n",
    "\n",
    "for k in range (1,21):\n",
    "    yhat = knn(k, X, n)\n",
    "    mse = np.mean((y-yhat) ** 2)\n",
    "    mse_values.append(mse)\n",
    "    print(f'MSE value for K = {k} is: {mse}')\n",
    "\n",
    "\n",
    "k_best = mse_values.index(np.min(mse_values)) + 1\n",
    "print(f'\\nK = {k_best} has the lowest MSE: {np.min(mse_values)}')\n",
    "\n",
    "yhat = knn(k_best, X, n)\n",
    "plt.scatter(y, yhat, marker = \"*\")\n",
    "plt.xlabel(\"y\")\n",
    "plt.ylabel(\"yhat\")\n",
    "plt.title(f'KNN on diabetes data with k={k_best}')\n",
    "plt.show()"
   ]
  },
  {
   "cell_type": "markdown",
   "metadata": {},
   "source": [
    "## Regression Tree"
   ]
  },
  {
   "cell_type": "code",
   "execution_count": null,
   "metadata": {},
   "outputs": [
    {
     "name": "stdout",
     "output_type": "stream",
     "text": [
      "Mean squared error: 0.5502977152617332\n",
      "MSE: 0.9363445672932865\n",
      "RMSE: 0.9148705391705322\n"
     ]
    }
   ],
   "source": [
    "# create a decisiontreeregressor/classifier\n",
    "dtree = DecisionTreeRegressor()\n",
    "\n",
    "# Fit the tree regressor/classifier\n",
    "dtree.fit(X_train, y_train)\n",
    "\n",
    "# Predict the target variable\n",
    "y_pred = dtree.predict(X_test)\n",
    "\n",
    "# Calculate the mean squared error\n",
    "mse = mean_squared_error(y_test, y_pred)\n",
    "print(f'Mean squared error: {mse}')\n",
    "\n",
    "# Create a Random Forest Regressor\n",
    "rf = RandomForestRegressor(n_estimators=100, max_features='sqrt')\n",
    "\n",
    "# Fit the model\n",
    "rf.fit(X_train, y_train)\n",
    "\n",
    "# Make predictions\n",
    "y_pred = rf.predict(X_test)\n",
    "\n",
    "# Evaluate the model\n",
    "mse = mean_squared_error(y_test, y_pred)\n",
    "print(f'MSE: {rmse}')\n",
    "\n",
    "rmse = np.sqrt(mse)\n",
    "print(f'RMSE: {rmse}')"
   ]
  }
 ],
 "metadata": {
  "kernelspec": {
   "display_name": "base",
   "language": "python",
   "name": "python3"
  },
  "language_info": {
   "codemirror_mode": {
    "name": "ipython",
    "version": 3
   },
   "file_extension": ".py",
   "mimetype": "text/x-python",
   "name": "python",
   "nbconvert_exporter": "python",
   "pygments_lexer": "ipython3",
   "version": "3.12.3"
  }
 },
 "nbformat": 4,
 "nbformat_minor": 2
}
