{
 "cells": [
  {
   "cell_type": "markdown",
   "metadata": {},
   "source": [
    "# Case 1"
   ]
  },
  {
   "cell_type": "markdown",
   "metadata": {},
   "source": [
    "## Import libraries"
   ]
  },
  {
   "cell_type": "code",
   "execution_count": 14,
   "metadata": {},
   "outputs": [],
   "source": [
    "import numpy as np\n",
    "import matplotlib.pyplot as plt\n",
    "import pandas as pd\n",
    "from sklearn.impute import KNNImputer"
   ]
  },
  {
   "cell_type": "markdown",
   "metadata": {},
   "source": [
    "## Load data"
   ]
  },
  {
   "cell_type": "code",
   "execution_count": 15,
   "metadata": {},
   "outputs": [
    {
     "name": "stdout",
     "output_type": "stream",
     "text": [
      "(100, 101)\n",
      "(1000, 100)\n",
      "(100, 101)\n",
      "(1000, 100)\n"
     ]
    }
   ],
   "source": [
    "# Path to the data files\n",
    "data_path_1 = '../data/case1Data.csv'\n",
    "data_path_2 = '../data/case1Data_Xnew.csv'\n",
    "\n",
    "# Load the data into a numpy array\n",
    "data_np = np.loadtxt(data_path_1, delimiter=',', skiprows=1)\n",
    "data_np_new = np.loadtxt(data_path_2, delimiter=',', skiprows=1)\n",
    "\n",
    "# Print the shape of the data in the numpy array\n",
    "print(data_np.shape) # 100 rows and 101 columns (100 features and 1 target)\n",
    "print(data_np_new.shape) # 1000 rows and 100 columns (100 features and no target)\n",
    "\n",
    "# Create a pandas dataframe and use the first row as the column names\n",
    "data_pd = pd.read_csv(data_path_1, sep=',', header=0)\n",
    "data_pd_new = pd.read_csv(data_path_2, sep=',', header=0)\n",
    "\n",
    "# Print the shape of the data in the pandas dataframe\n",
    "print(data_pd.shape)\n",
    "print(data_pd_new.shape)"
   ]
  },
  {
   "cell_type": "markdown",
   "metadata": {},
   "source": [
    "## Handling missing values"
   ]
  },
  {
   "cell_type": "markdown",
   "metadata": {},
   "source": [
    "Possible methods:\n",
    "- Drop rows\n",
    "- Imputation: Mean, Median, Mode\n",
    "- Interolation: Linear, Quadratic\n",
    "- K-Nearest Neighbors (KNN)"
   ]
  },
  {
   "cell_type": "code",
   "execution_count": 31,
   "metadata": {},
   "outputs": [
    {
     "name": "stdout",
     "output_type": "stream",
     "text": [
      "(100, 101)\n",
      "(1000, 100)\n"
     ]
    }
   ],
   "source": [
    "# Use KNNImputer from scikit-learn to impute the missing values in the data with the mean of the k-nearest neighbors\n",
    "\n",
    "# class sklearn.impute.KNNImputer(*, missing_values=nan, n_neighbors=5, weights='uniform', metric='nan_euclidean', copy=True, add_indicator=False, keep_empty_features=False)\n",
    "imputer = KNNImputer(n_neighbors=5, missing_values=np.nan)\n",
    "\n",
    "# Fit the imputer on the data and transform the data\n",
    "data_imputed = imputer.fit_transform(data_pd)\n",
    "data_new_imputed = imputer.fit_transform(data_pd_new)\n",
    "\n",
    "# Round the last 5 columns to a whole number\n",
    "data_imputed[:, -5:] = np.round(data_imputed[:, -5:])\n",
    "data_new_imputed[:, -5:] = np.round(data_new_imputed[:, -5:])\n",
    "\n",
    "# Print the shape of the imputed data\n",
    "print(data_imputed.shape)\n",
    "print(data_new_imputed.shape)\n",
    "\n",
    "# Save the imputed data to a csv file\n",
    "np.savetxt('../data/case1Data_imputed.csv', data_imputed, delimiter=',')\n",
    "np.savetxt('../data/case1Data_Xnew_imputed.csv', data_new_imputed, delimiter=',')"
   ]
  },
  {
   "cell_type": "markdown",
   "metadata": {},
   "source": [
    "## Building models"
   ]
  }
 ],
 "metadata": {
  "kernelspec": {
   "display_name": "base",
   "language": "python",
   "name": "python3"
  },
  "language_info": {
   "codemirror_mode": {
    "name": "ipython",
    "version": 3
   },
   "file_extension": ".py",
   "mimetype": "text/x-python",
   "name": "python",
   "nbconvert_exporter": "python",
   "pygments_lexer": "ipython3",
   "version": "3.12.3"
  }
 },
 "nbformat": 4,
 "nbformat_minor": 2
}
