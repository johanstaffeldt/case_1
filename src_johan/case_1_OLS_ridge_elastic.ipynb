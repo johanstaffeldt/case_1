{
 "cells": [
  {
   "cell_type": "markdown",
   "metadata": {},
   "source": [
    "# Case 1 - Ordinary Least Squares (OLS), Ridge Regression, and Elastic-Net Regression"
   ]
  },
  {
   "cell_type": "markdown",
   "metadata": {},
   "source": [
    "1. **Importing Libraries**\n",
    "\n",
    "2. **Loading Data**\n",
    "\n",
    "3. **Ordinary Least Squares (OLS)**\n",
    "\n",
    "4. **Ridge (L2) Regression**\n",
    "\n",
    "5. **Lasso (L1) Regression**\n",
    "\n",
    "6. **Elastic Net Regression**\n",
    "- Elastic Net Regression because we have many variables that we do not know. Elastic Net combines the strengths of Lasso regression (L1) and Ridge regression. Lasso regression can shrink parameters to 0 which is useful for large dataset where some parameters might be useless. Ridge regression tends to perform better when parameters are not useless. Therefore, elastic net is useful in this case as we do not know our parameters.\n",
    "- Find optimal model parameters, lamdba_1 and lambda_2 by using 5-fold cross validation.\n",
    "- Get root mean squared error (RMSE) by applying the model with the optimal model parameters on the test data."
   ]
  },
  {
   "cell_type": "markdown",
   "metadata": {},
   "source": [
    "## 1. Importing Libraries"
   ]
  },
  {
   "cell_type": "code",
   "execution_count": 41,
   "metadata": {},
   "outputs": [],
   "source": [
    "import numpy as np\n",
    "\n",
    "%matplotlib inline\n",
    "import matplotlib.pyplot as plt\n",
    "import seaborn as sns\n",
    "sns.set() # Set searborn as default\n",
    "\n",
    "import scipy . linalg as lng\n",
    "\n",
    "from sklearn import linear_model\n",
    "\n",
    "from sklearn.linear_model import RidgeCV\n",
    "from sklearn.linear_model import LassoCV\n",
    "\n",
    "from sklearn.model_selection import cross_val_score\n",
    "from sklearn.metrics import mean_squared_error\n",
    "\n",
    "from sklearn.linear_model import LinearRegression\n",
    "\n",
    "import warnings\n",
    "\n",
    "# Set seed for reproducibility\n",
    "import random\n",
    "random.seed(42)"
   ]
  },
  {
   "cell_type": "markdown",
   "metadata": {},
   "source": [
    "## 2. Loading Data"
   ]
  },
  {
   "cell_type": "code",
   "execution_count": 42,
   "metadata": {},
   "outputs": [],
   "source": [
    "# Loading the data into numpy arrays\n",
    "X_train = np.loadtxt('../data/case1Data_Xtrain.csv', delimiter=',')\n",
    "X_test = np.loadtxt('../data/case1Data_Xtest.csv', delimiter=',')\n",
    "y_train = np.loadtxt('../data/case1Data_ytrain.csv', delimiter=',')\n",
    "y_test = np.loadtxt('../data/case1Data_ytest.csv', delimiter=',')"
   ]
  },
  {
   "cell_type": "markdown",
   "metadata": {},
   "source": [
    "### Summary of the data"
   ]
  },
  {
   "cell_type": "markdown",
   "metadata": {},
   "source": [
    "This should be similar to the summary in case_1_data_wrangling.ipynb."
   ]
  },
  {
   "cell_type": "code",
   "execution_count": 43,
   "metadata": {},
   "outputs": [
    {
     "name": "stdout",
     "output_type": "stream",
     "text": [
      "X_train:  (80, 116)\n",
      "X_test:  (20, 116)\n",
      "y_train:  (80,)\n",
      "y_test:  (20,)\n",
      "n_train:  80\n",
      "n_test:  20\n",
      "p:  116\n",
      "Number of missing values in X_train:  0\n",
      "Number of missing values in X_test:  0\n",
      "Number of missing values in y_train:  0\n",
      "Number of missing values in y_test:  0\n"
     ]
    }
   ],
   "source": [
    "# Printing the shape of the data\n",
    "print(\"X_train: \", X_train.shape)\n",
    "print(\"X_test: \", X_test.shape)\n",
    "print(\"y_train: \", y_train.shape)\n",
    "print(\"y_test: \", y_test.shape)\n",
    "\n",
    "# Size of the training and test data\n",
    "n_train = X_train.shape[0]\n",
    "n_test = X_test.shape[0]\n",
    "p = X_train.shape[1]\n",
    "\n",
    "# Printing the size of the training and test data\n",
    "print(\"n_train: \", n_train) # number of training samples\n",
    "print(\"n_test: \", n_test) # number of test samples\n",
    "print(\"p: \", p) # number of features/variables/columns/parameters\n",
    "\n",
    "# Checking for missing values in the wrangled data\n",
    "missing_values_X_train = np.isnan(X_train)\n",
    "print(\"Number of missing values in X_train: \", np.sum(missing_values_X_train))\n",
    "missing_values_X_test = np.isnan(X_test)\n",
    "print(\"Number of missing values in X_test: \", np.sum(missing_values_X_test))\n",
    "missing_values_y_train = np.isnan(y_train)\n",
    "print(\"Number of missing values in y_train: \", np.sum(missing_values_y_train))\n",
    "missing_values_y_test = np.isnan(y_test)\n",
    "print(\"Number of missing values in y_test: \", np.sum(missing_values_y_test))"
   ]
  },
  {
   "cell_type": "markdown",
   "metadata": {},
   "source": [
    "#### SELECTING FEATURES WITH BIC"
   ]
  },
  {
   "cell_type": "code",
   "execution_count": 44,
   "metadata": {},
   "outputs": [
    {
     "name": "stdout",
     "output_type": "stream",
     "text": [
      "Selected Feature Indices: [31, 61, 35, 53, 67, 36, 81, 48, 9, 38, 77, 74, 104]\n",
      "Best BIC Score: 492.75769252942996\n"
     ]
    }
   ],
   "source": [
    "def compute_bic(X, y, model):\n",
    "    \"\"\"Compute Bayesian Information Criterion (BIC) for a given model.\"\"\"\n",
    "    n, k = X.shape  # n = samples, k = features\n",
    "    model.fit(X, y)\n",
    "    residuals = y - model.predict(X)\n",
    "    rss = np.sum(residuals**2)  # Residual sum of squares\n",
    "    sigma2 = rss / n  # Estimated variance\n",
    "    bic = n * np.log(sigma2) + k * np.log(n)  # BIC formula\n",
    "    return bic\n",
    "\n",
    "def stepwise_bic_selection(X, y):\n",
    "    \"\"\"Greedy forward selection based on BIC.\"\"\"\n",
    "    n_features = X.shape[1]\n",
    "    selected_features = []  # Start with an empty set\n",
    "    best_bic = np.inf\n",
    "    model = LinearRegression()\n",
    "\n",
    "    while True:\n",
    "        bic_scores = []\n",
    "        candidates = [i for i in range(n_features) if i not in selected_features]\n",
    "\n",
    "        # Try adding each remaining feature\n",
    "        for feature in candidates:\n",
    "            current_features = selected_features + [feature]\n",
    "            bic = compute_bic(X[:, current_features], y, model)\n",
    "            bic_scores.append((feature, bic))\n",
    "\n",
    "        # Select the feature that minimizes BIC\n",
    "        bic_scores.sort(key=lambda x: x[1])\n",
    "        best_new_feature, new_bic = bic_scores[0]\n",
    "\n",
    "        # Stop if BIC does not improve\n",
    "        if new_bic >= best_bic:\n",
    "            break\n",
    "\n",
    "        # Otherwise, update the best BIC and selected features\n",
    "        best_bic = new_bic\n",
    "        selected_features.append(best_new_feature)\n",
    "\n",
    "    return selected_features, best_bic\n",
    "\n",
    "# Run BIC feature selection\n",
    "best_features, best_bic = stepwise_bic_selection(X_train, y_train)\n",
    "\n",
    "print(\"Selected Feature Indices:\", best_features)\n",
    "print(\"Best BIC Score:\", best_bic)"
   ]
  },
  {
   "cell_type": "markdown",
   "metadata": {},
   "source": [
    "#### SELECTING FEATURES WITH LASSO"
   ]
  },
  {
   "cell_type": "code",
   "execution_count": 45,
   "metadata": {},
   "outputs": [
    {
     "name": "stdout",
     "output_type": "stream",
     "text": [
      "Selected Feature Indices: [  6   8   9  10  12  27  28  29  31  34  35  40  42  44  48  50  53  54\n",
      "  56  58  61  63  67  72  74  75  77  81  82  85 112]\n"
     ]
    }
   ],
   "source": [
    "from sklearn.feature_selection import SelectFromModel\n",
    "\n",
    "lasso = LassoCV(cv=3, random_state=42) # LassoCV automatically performs cross-validation\n",
    "lasso.fit(X_train, y_train) # Fit the model on the training data\n",
    "\n",
    "# Select important features (nonzero coefficients)\n",
    "selector = SelectFromModel(lasso, prefit=True) # Use the Lasso model to select features\n",
    "selected_features_mask = selector.get_support()\n",
    "selected_features = np.where(selected_features_mask)[0]  # Get indices of selected features\n",
    "\n",
    "print(\"Selected Feature Indices:\", selected_features)"
   ]
  },
  {
   "cell_type": "markdown",
   "metadata": {},
   "source": [
    "# Models"
   ]
  },
  {
   "cell_type": "markdown",
   "metadata": {},
   "source": [
    "## 4. Ordinary Least Squares (OLS)"
   ]
  },
  {
   "cell_type": "code",
   "execution_count": 46,
   "metadata": {},
   "outputs": [
    {
     "name": "stdout",
     "output_type": "stream",
     "text": [
      "RMSE: 33.42900758727703\n"
     ]
    }
   ],
   "source": [
    "# Function to solve the OLS\n",
    "def ols_solver(X, y):\n",
    "    betas, res, rnk, s = lng.lstsq(X, y)\n",
    "    return betas, res, rnk, s\n",
    "\n",
    "# Fitting the OLS model on the training data\n",
    "betas, residuals, rnk, s = ols_solver(X_train, y_train)\n",
    "\n",
    "# Predicting the target values on the test data by multiplying the test data with the betas from the OLS model\n",
    "y_hat = X_test @ betas\n",
    "\n",
    "# Calculating the root mean squared error (RMSE) of the OLS model\n",
    "#rmse = np.sqrt(np.mean((y_test - y_hat)**2))\n",
    "rmse = np.sqrt(mean_squared_error(y_test, y_hat))\n",
    "\n",
    "# Printing the residual mean squared error (RMSE) of the OLS model\n",
    "print(f'RMSE: {rmse}')"
   ]
  },
  {
   "cell_type": "markdown",
   "metadata": {},
   "source": [
    "#### WITH BIC FEATURES"
   ]
  },
  {
   "cell_type": "code",
   "execution_count": 47,
   "metadata": {},
   "outputs": [
    {
     "name": "stdout",
     "output_type": "stream",
     "text": [
      "RMSE: 186.06870899274725\n"
     ]
    }
   ],
   "source": [
    "# Function to solve the OLS\n",
    "def ols_solver(X, y):\n",
    "    betas, res, rnk, s = lng.lstsq(X, y)\n",
    "    return betas, res, rnk, s\n",
    "\n",
    "# Fitting the OLS model on the training data with the selected features\n",
    "betas, residuals, rnk, s = ols_solver(X_train[:, best_features], y_train)\n",
    "\n",
    "# Predicting the target values on the test data by multiplying the test data with the betas from the OLS model\n",
    "y_hat = X_test[:, best_features] @ betas\n",
    "\n",
    "# Calculating the root mean squared error (RMSE) of the OLS model\n",
    "#rmse = np.sqrt(np.mean((y_test - y_hat)**2))\n",
    "rmse = np.sqrt(mean_squared_error(y_test, y_hat))\n",
    "\n",
    "# Printing the residual mean squared error (RMSE) of the OLS model\n",
    "print(f'RMSE: {rmse}')"
   ]
  },
  {
   "cell_type": "markdown",
   "metadata": {},
   "source": [
    "#### WITH LASSO FEATURES"
   ]
  },
  {
   "cell_type": "code",
   "execution_count": 48,
   "metadata": {},
   "outputs": [
    {
     "name": "stdout",
     "output_type": "stream",
     "text": [
      "RMSE: 233.5226915320538\n"
     ]
    }
   ],
   "source": [
    "# Function to solve the OLS\n",
    "def ols_solver(X, y):\n",
    "    betas, res, rnk, s = lng.lstsq(X, y)\n",
    "    return betas, res, rnk, s\n",
    "\n",
    "# Fitting the OLS model on the training data with the selected features\n",
    "betas, residuals, rnk, s = ols_solver(X_train[:, selected_features], y_train)\n",
    "\n",
    "# Predicting the target values on the test data by multiplying the test data with the betas from the OLS model\n",
    "y_hat = X_test[:, selected_features] @ betas\n",
    "\n",
    "# Calculating the root mean squared error (RMSE) of the OLS model\n",
    "#rmse = np.sqrt(np.mean((y_test - y_hat)**2))\n",
    "rmse = np.sqrt(mean_squared_error(y_test, y_hat))\n",
    "\n",
    "# Printing the residual mean squared error (RMSE) of the OLS model\n",
    "print(f'RMSE: {rmse}')"
   ]
  },
  {
   "cell_type": "markdown",
   "metadata": {},
   "source": [
    "# 4. Ridge (L2) Regression"
   ]
  },
  {
   "cell_type": "code",
   "execution_count": 49,
   "metadata": {},
   "outputs": [
    {
     "data": {
      "image/png": "[encoded data removed]",
      "text/plain": [
       "<Figure size 640x480 with 1 Axes>"
      ]
     },
     "metadata": {},
     "output_type": "display_data"
    }
   ],
   "source": [
    "# Function to solve the ridge regression\n",
    "def ridge(X, _lambda, p, y):\n",
    "    inner_prod = np.linalg.inv(X.T @ X + _lambda * np.eye(p,p)) # (X^T*X + lambda*I)^-1\n",
    "    outer_prod = X.T @ y # X^T*y\n",
    "    betas = inner_prod @ outer_prod # (X^T*X + lambda*I)^-1 * X^T*y\n",
    "    return betas\n",
    "\n",
    "# Setting k for the number of lambdas to test\n",
    "k = 1000\n",
    "\n",
    "# Creating a list of lambdas to test\n",
    "lambdas = np.logspace(-1, 4, k)\n",
    "\n",
    "# Creating a matrix to store the beta estimates for each lambda\n",
    "betas = np.zeros((p, k))\n",
    "\n",
    "# Fitting the ridge regression model on the training data for each lambda\n",
    "for i in range(k):\n",
    "    betas[:, i] = ridge(X_train, lambdas[i], p, y_train)\n",
    "\n",
    "# Plotting the regularized beta estimates\n",
    "plt.close('all')\n",
    "plt.semilogx(lambdas, betas.T )\n",
    "plt.xlabel(\"Lambdas\")\n",
    "plt.ylabel(\"Betas\")\n",
    "plt.suptitle(\"Regularized beta estimates\", fontsize=20)\n",
    "plt.show()\n"
   ]
  },
  {
   "cell_type": "code",
   "execution_count": 50,
   "metadata": {},
   "outputs": [
    {
     "name": "stderr",
     "output_type": "stream",
     "text": [
      "/opt/anaconda3/lib/python3.12/site-packages/sklearn/linear_model/_ridge.py:2341: FutureWarning: 'store_cv_values' is deprecated in version 1.5 and will be removed in 1.7. Use 'store_cv_results' instead.\n",
      "  warnings.warn(\n"
     ]
    },
    {
     "name": "stdout",
     "output_type": "stream",
     "text": [
      "Optimal lambda: 4.3314832233764005\n"
     ]
    }
   ],
   "source": [
    "# Setting k for the number of lambdas to test\n",
    "k = 1000\n",
    "\n",
    "# Creating a list of lambdas to test\n",
    "lambdas = np.logspace(-1, 4, k)\n",
    "\n",
    "# Performing RidgeCV with leave-one-out cross-validation\n",
    "#ridge_cv = RidgeCV(alphas=lambdas, store_cv_values=False, cv=n_train)\n",
    "\n",
    "# Performing RidgeCV with 5-fold cross-validation\n",
    "ridge_cv = RidgeCV(alphas=lambdas, store_cv_values=False, cv=3)\n",
    "\n",
    "# Fitting the RidgeCV model on the training data\n",
    "ridge_cv.fit(X_train, y_train)\n",
    "\n",
    "# Optimal lambda from RidgeCV with 5-fold cross-validation (alpha_)\n",
    "lambda_OP = ridge_cv.alpha_\n",
    "\n",
    "#print optimal lambda\n",
    "print(f'Optimal lambda: {lambda_OP}')"
   ]
  },
  {
   "cell_type": "code",
   "execution_count": 51,
   "metadata": {},
   "outputs": [
    {
     "name": "stdout",
     "output_type": "stream",
     "text": [
      "Root MSE from OLS with ridge regression and cross validation to find optimal lambda and model parameters:\n",
      "RMSE: 31.87251443860696\n"
     ]
    }
   ],
   "source": [
    "# Estimating the target values on the test data\n",
    "y_hat = ridge_cv.predict(X_test)\n",
    "\n",
    "# Calculating the RMSE of the RidgeCV model\n",
    "rmse = np.sqrt(mean_squared_error(y_test, y_hat))\n",
    "print('Root MSE from OLS with ridge regression and cross validation to find optimal lambda and model parameters:')\n",
    "print(f'RMSE: {rmse}')"
   ]
  },
  {
   "cell_type": "markdown",
   "metadata": {},
   "source": [
    "#### WITH BIC FEATURES"
   ]
  },
  {
   "cell_type": "code",
   "execution_count": 52,
   "metadata": {},
   "outputs": [
    {
     "name": "stderr",
     "output_type": "stream",
     "text": [
      "/opt/anaconda3/lib/python3.12/site-packages/sklearn/linear_model/_ridge.py:2341: FutureWarning: 'store_cv_values' is deprecated in version 1.5 and will be removed in 1.7. Use 'store_cv_results' instead.\n",
      "  warnings.warn(\n"
     ]
    },
    {
     "name": "stdout",
     "output_type": "stream",
     "text": [
      "Optimal lambda: 1.291549665014884\n",
      "Root MSE from OLS with ridge regression and cross validation to find optimal lambda and model parameters:\n",
      "RMSE: 28.722856273317145\n"
     ]
    }
   ],
   "source": [
    "# Setting k for the number of lambdas to test\n",
    "k = 1000\n",
    "\n",
    "# Creating a list of lambdas to test\n",
    "lambdas = np.logspace(-1, 4, k)\n",
    "\n",
    "# Performing RidgeCV with leave-one-out cross-validation\n",
    "#ridge_cv = RidgeCV(alphas=lambdas, store_cv_values=False, cv=n_train)\n",
    "\n",
    "# Performing RidgeCV with 5-fold cross-validation\n",
    "ridge_cv = RidgeCV(alphas=lambdas, store_cv_values=False, cv=3)\n",
    "\n",
    "# Fitting the RidgeCV model on the training data\n",
    "ridge_cv.fit(X_train[:, best_features], y_train)\n",
    "\n",
    "# Optimal lambda from RidgeCV with 5-fold cross-validation (alpha_)\n",
    "lambda_OP = ridge_cv.alpha_\n",
    "\n",
    "#print optimal lambda\n",
    "print(f'Optimal lambda: {lambda_OP}')\n",
    "\n",
    "# Estimating the target values on the test data\n",
    "y_hat = ridge_cv.predict(X_test[:, best_features])\n",
    "\n",
    "# Calculating the RMSE of the RidgeCV model\n",
    "rmse = np.sqrt(mean_squared_error(y_test, y_hat))\n",
    "print('Root MSE from OLS with ridge regression and cross validation to find optimal lambda and model parameters:')\n",
    "print(f'RMSE: {rmse}')"
   ]
  },
  {
   "cell_type": "markdown",
   "metadata": {},
   "source": [
    "#### WITH LASSO FEATURES"
   ]
  },
  {
   "cell_type": "code",
   "execution_count": 53,
   "metadata": {},
   "outputs": [
    {
     "name": "stderr",
     "output_type": "stream",
     "text": [
      "/opt/anaconda3/lib/python3.12/site-packages/sklearn/linear_model/_ridge.py:2341: FutureWarning: 'store_cv_values' is deprecated in version 1.5 and will be removed in 1.7. Use 'store_cv_results' instead.\n",
      "  warnings.warn(\n"
     ]
    },
    {
     "name": "stdout",
     "output_type": "stream",
     "text": [
      "Optimal lambda: 1.6835508029612023\n",
      "Root MSE from OLS with ridge regression and cross validation to find optimal lambda and model parameters:\n",
      "RMSE: 27.88911468047865\n"
     ]
    }
   ],
   "source": [
    "# Setting k for the number of lambdas to test\n",
    "k = 1000\n",
    "\n",
    "# Creating a list of lambdas to test\n",
    "lambdas = np.logspace(-1, 4, k)\n",
    "\n",
    "# Performing RidgeCV with leave-one-out cross-validation\n",
    "#ridge_cv = RidgeCV(alphas=lambdas, store_cv_values=False, cv=n_train)\n",
    "\n",
    "# Performing RidgeCV with 5-fold cross-validation\n",
    "ridge_cv = RidgeCV(alphas=lambdas, store_cv_values=False, cv=3)\n",
    "\n",
    "# Fitting the RidgeCV model on the training data\n",
    "ridge_cv.fit(X_train[:, selected_features], y_train)\n",
    "\n",
    "# Optimal lambda from RidgeCV with 5-fold cross-validation (alpha_)\n",
    "lambda_OP = ridge_cv.alpha_\n",
    "\n",
    "#print optimal lambda\n",
    "print(f'Optimal lambda: {lambda_OP}')\n",
    "\n",
    "# Estimating the target values on the test data\n",
    "y_hat = ridge_cv.predict(X_test[:, selected_features])\n",
    "\n",
    "# Calculating the RMSE of the RidgeCV model\n",
    "rmse = np.sqrt(mean_squared_error(y_test, y_hat))\n",
    "print('Root MSE from OLS with ridge regression and cross validation to find optimal lambda and model parameters:')\n",
    "print(f'RMSE: {rmse}')"
   ]
  },
  {
   "cell_type": "markdown",
   "metadata": {},
   "source": [
    "# 5. Lasso (L1) Regression"
   ]
  },
  {
   "cell_type": "code",
   "execution_count": 54,
   "metadata": {},
   "outputs": [
    {
     "name": "stdout",
     "output_type": "stream",
     "text": [
      "Optimal lambda: 1.1047649897957665\n",
      "Root MSE from OLS with lasso regression and cross validation to find optimal lambda and model parameters:\n",
      "RMSE: 27.10916268579508\n"
     ]
    }
   ],
   "source": [
    "lasso = LassoCV(cv=3, random_state=42)\n",
    "lasso.fit(X_train, y_train)\n",
    "\n",
    "# Optimal lambda from LassoCV with 3-fold cross-validation (alpha_)\n",
    "lambda_OP = lasso.alpha_\n",
    "print(f'Optimal lambda: {lambda_OP}')\n",
    "\n",
    "y_hat = lasso.predict(X_test)\n",
    "\n",
    "rmse = np.sqrt(mean_squared_error(y_test, y_hat))\n",
    "print('Root MSE from OLS with lasso regression and cross validation to find optimal lambda and model parameters:')\n",
    "print(f'RMSE: {rmse}')"
   ]
  },
  {
   "cell_type": "markdown",
   "metadata": {},
   "source": [
    "#### WITH BIC FEATURES"
   ]
  },
  {
   "cell_type": "code",
   "execution_count": 55,
   "metadata": {},
   "outputs": [
    {
     "name": "stdout",
     "output_type": "stream",
     "text": [
      "Optimal lambda: 0.7268615922251137\n",
      "Root MSE from OLS with lasso regression and cross validation to find optimal lambda and model parameters:\n",
      "RMSE: 27.848751636959705\n"
     ]
    }
   ],
   "source": [
    "lasso = LassoCV(cv=3, random_state=42)\n",
    "lasso.fit(X_train[:, best_features], y_train)\n",
    "\n",
    "# Optimal lambda from LassoCV with 3-fold cross-validation (alpha_)\n",
    "lambda_OP = lasso.alpha_\n",
    "print(f'Optimal lambda: {lambda_OP}')\n",
    "\n",
    "y_hat = lasso.predict(X_test[:, best_features])\n",
    "\n",
    "rmse = np.sqrt(mean_squared_error(y_test, y_hat))\n",
    "print('Root MSE from OLS with lasso regression and cross validation to find optimal lambda and model parameters:')\n",
    "print(f'RMSE: {rmse}')"
   ]
  },
  {
   "cell_type": "markdown",
   "metadata": {},
   "source": [
    "# 6. Elastic Net Regression"
   ]
  },
  {
   "cell_type": "code",
   "execution_count": 56,
   "metadata": {},
   "outputs": [
    {
     "name": "stdout",
     "output_type": "stream",
     "text": [
      "Optimal alpha: 0.9111627561154896\n",
      "\n",
      "For l1_ratio = 0 the penalty is an L2 penalty. For l1_ratio = 1 it is an L1 penalty. For 0 < l1_ratio < 1, the penalty is a combination of L1 and L2.\n",
      "Optimal l1_ratio: 1.0\n"
     ]
    }
   ],
   "source": [
    "# Setting a range of alphas to test\n",
    "alphas = np.logspace(-4, 0, 100)\n",
    "\n",
    "# Setting a range of l1_ratios\n",
    "l1_ratios = np.logspace(-10, 0, 100)\n",
    "\n",
    "with warnings.catch_warnings(): # done to disable all the convergence warnings from elastic net\n",
    "    warnings.simplefilter(\"ignore\")\n",
    "    \n",
    "    # Fitting the Elastic Net model on the training data\n",
    "    model = linear_model.ElasticNetCV(cv=3, l1_ratio = l1_ratios, alphas=alphas, fit_intercept=False).fit(X_train, y_train)\n",
    "\n",
    "# Printing the optimal alpha\n",
    "print(f'Optimal alpha: {model.alpha_}\\n')\n",
    "print('For l1_ratio = 0 the penalty is an L2 penalty. For l1_ratio = 1 it is an L1 penalty. For 0 < l1_ratio < 1, the penalty is a combination of L1 and L2.')\n",
    "print(f'Optimal l1_ratio: {model.l1_ratio_}')\n",
    "\n",
    "# Plotting the cross-validated mean squared error of the Elastic Net Fit\n",
    "#plt.close('all')\n",
    "#plt.figure()\n",
    "#plt.semilogx(model.alphas_, model.mse_path_.mean(axis=-1), 'k', label='Average across folds', linewidth=2)\n",
    "#plt.xlabel(r'$\\alpha$ (Regularization strength)')\n",
    "#plt.ylabel('Mean squared error')\n",
    "#plt.title(f'Cross-validated MSE of Elastic Net Fit (Optimal alpha = {model.alpha_:.3f})')\n",
    "#plt.show()"
   ]
  },
  {
   "cell_type": "code",
   "execution_count": 57,
   "metadata": {},
   "outputs": [
    {
     "name": "stdout",
     "output_type": "stream",
     "text": [
      "Root MSE from OLS with elastic net regression and cross validation to find optimal lambda and model parameters:\n",
      "RMSE: 26.094967036910088\n"
     ]
    }
   ],
   "source": [
    "# Using the optimal lambda from the ElasticNetCV model to predict the target values on the test data\n",
    "y_hat = model.predict(X_test)\n",
    "\n",
    "# Calculating the RMSE of the ElasticNetCV model\n",
    "rmse = np.sqrt(mean_squared_error(y_test, y_hat))\n",
    "\n",
    "# Printing the RMSE\n",
    "print('Root MSE from OLS with elastic net regression and cross validation to find optimal lambda and model parameters:')\n",
    "print(f'RMSE: {rmse}')"
   ]
  },
  {
   "cell_type": "markdown",
   "metadata": {},
   "source": [
    "#### WITH BIC FEATURES"
   ]
  },
  {
   "cell_type": "code",
   "execution_count": 58,
   "metadata": {},
   "outputs": [
    {
     "name": "stdout",
     "output_type": "stream",
     "text": [
      "Optimal alpha: 1.0\n",
      "\n",
      "For l1_ratio = 0 the penalty is an L2 penalty. For l1_ratio = 1 it is an L1 penalty. For 0 < l1_ratio < 1, the penalty is a combination of L1 and L2.\n",
      "Optimal l1_ratio: 1e-10\n",
      "Root MSE from OLS with elastic net regression and cross validation to find optimal lambda and model parameters:\n",
      "RMSE: 202.01203533525927\n"
     ]
    }
   ],
   "source": [
    "# Setting a range of alphas to test\n",
    "alphas = np.logspace(-4, 0, 100)\n",
    "\n",
    "# Setting a range of l1_ratios\n",
    "l1_ratios = np.logspace(-10, 0, 100)\n",
    "\n",
    "with warnings.catch_warnings(): # done to disable all the convergence warnings from elastic net\n",
    "    warnings.simplefilter(\"ignore\")\n",
    "    \n",
    "    # Fitting the Elastic Net model on the training data\n",
    "    model = linear_model.ElasticNetCV(cv=3, l1_ratio = l1_ratios, alphas=alphas, fit_intercept=False).fit(X_train[:, best_features], y_train)\n",
    "\n",
    "# Printing the optimal alpha\n",
    "print(f'Optimal alpha: {model.alpha_}\\n')\n",
    "print('For l1_ratio = 0 the penalty is an L2 penalty. For l1_ratio = 1 it is an L1 penalty. For 0 < l1_ratio < 1, the penalty is a combination of L1 and L2.')\n",
    "print(f'Optimal l1_ratio: {model.l1_ratio_}')\n",
    "\n",
    "# Using the optimal lambda from the ElasticNetCV model to predict the target values on the test data\n",
    "y_hat = model.predict(X_test[:, best_features])\n",
    "\n",
    "# Calculating the RMSE of the ElasticNetCV model\n",
    "rmse = np.sqrt(mean_squared_error(y_test, y_hat))\n",
    "\n",
    "# Printing the RMSE\n",
    "print('Root MSE from OLS with elastic net regression and cross validation to find optimal lambda and model parameters:')\n",
    "print(f'RMSE: {rmse}')"
   ]
  },
  {
   "cell_type": "markdown",
   "metadata": {},
   "source": [
    "#### WITH LASSO FEATURES"
   ]
  },
  {
   "cell_type": "code",
   "execution_count": 59,
   "metadata": {},
   "outputs": [
    {
     "name": "stdout",
     "output_type": "stream",
     "text": [
      "Optimal alpha: 1.0\n",
      "\n",
      "For l1_ratio = 0 the penalty is an L2 penalty. For l1_ratio = 1 it is an L1 penalty. For 0 < l1_ratio < 1, the penalty is a combination of L1 and L2.\n",
      "Optimal l1_ratio: 1e-10\n",
      "Root MSE from OLS with elastic net regression and cross validation to find optimal lambda and model parameters:\n",
      "RMSE: 201.65717228803064\n"
     ]
    }
   ],
   "source": [
    "# Setting a range of alphas to test\n",
    "alphas = np.logspace(-4, 0, 100)\n",
    "\n",
    "# Setting a range of l1_ratios\n",
    "l1_ratios = np.logspace(-10, 0, 100)\n",
    "\n",
    "with warnings.catch_warnings(): # done to disable all the convergence warnings from elastic net\n",
    "    warnings.simplefilter(\"ignore\")\n",
    "    \n",
    "    # Fitting the Elastic Net model on the training data\n",
    "    model = linear_model.ElasticNetCV(cv=3, l1_ratio = l1_ratios, alphas=alphas, fit_intercept=False).fit(X_train[:, selected_features], y_train)\n",
    "\n",
    "# Printing the optimal alpha\n",
    "print(f'Optimal alpha: {model.alpha_}\\n')\n",
    "print('For l1_ratio = 0 the penalty is an L2 penalty. For l1_ratio = 1 it is an L1 penalty. For 0 < l1_ratio < 1, the penalty is a combination of L1 and L2.')\n",
    "print(f'Optimal l1_ratio: {model.l1_ratio_}')\n",
    "\n",
    "# Using the optimal lambda from the ElasticNetCV model to predict the target values on the test data\n",
    "y_hat = model.predict(X_test[:, selected_features])\n",
    "\n",
    "# Calculating the RMSE of the ElasticNetCV model\n",
    "rmse = np.sqrt(mean_squared_error(y_test, y_hat))\n",
    "\n",
    "# Printing the RMSE\n",
    "print('Root MSE from OLS with elastic net regression and cross validation to find optimal lambda and model parameters:')\n",
    "print(f'RMSE: {rmse}')"
   ]
  }
 ],
 "metadata": {
  "kernelspec": {
   "display_name": "base",
   "language": "python",
   "name": "python3"
  },
  "language_info": {
   "codemirror_mode": {
    "name": "ipython",
    "version": 3
   },
   "file_extension": ".py",
   "mimetype": "text/x-python",
   "name": "python",
   "nbconvert_exporter": "python",
   "pygments_lexer": "ipython3",
   "version": "3.12.3"
  }
 },
 "nbformat": 4,
 "nbformat_minor": 2
}
