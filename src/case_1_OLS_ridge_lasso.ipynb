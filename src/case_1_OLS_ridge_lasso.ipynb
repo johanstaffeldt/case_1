{
 "cells": [
  {
   "cell_type": "markdown",
   "metadata": {},
   "source": [
    "# Case 1 - Ordinary Least Squares (OLS), Ridge Regression, and Elastic-Net Regression"
   ]
  },
  {
   "cell_type": "markdown",
   "metadata": {},
   "source": [
    "1. **Importing Libraries**\n",
    "\n",
    "2. **Ordinary Least Squares (OLS)**\n",
    "\n",
    "3. **Ridge (L2) Regression**\n",
    "\n",
    "4. **Lasso (L1) Regression**\n",
    "\n",
    "5. **Predicting $\\hat{y}$ in the new data set (case1Data_Xnew.csv) using a weighted average of the predictions from the Lasso regression models**"
   ]
  },
  {
   "cell_type": "markdown",
   "metadata": {},
   "source": [
    "## 1. Importing Libraries"
   ]
  },
  {
   "cell_type": "code",
   "execution_count": 2,
   "metadata": {},
   "outputs": [],
   "source": [
    "import numpy as np\n",
    "import pandas as pd\n",
    "\n",
    "%matplotlib inline\n",
    "import matplotlib.pyplot as plt\n",
    "import seaborn as sns\n",
    "sns.set() # Set searborn as default\n",
    "\n",
    "import scipy . linalg as lng\n",
    "\n",
    "from sklearn import linear_model\n",
    "\n",
    "from sklearn.preprocessing import StandardScaler\n",
    "\n",
    "from sklearn.impute import KNNImputer, SimpleImputer\n",
    "\n",
    "from sklearn.linear_model import RidgeCV\n",
    "from sklearn.linear_model import LassoCV\n",
    "\n",
    "from sklearn.model_selection import cross_val_score\n",
    "from sklearn.metrics import mean_squared_error\n",
    "\n",
    "from sklearn.linear_model import LinearRegression\n",
    "\n",
    "from sklearn.model_selection import KFold\n",
    "\n",
    "import warnings\n",
    "\n",
    "# Set seed for reproducibility\n",
    "import random\n",
    "random.seed(42)"
   ]
  },
  {
   "cell_type": "markdown",
   "metadata": {},
   "source": [
    "## 2. Ordinary Least Squares (OLS)"
   ]
  },
  {
   "cell_type": "code",
   "execution_count": 2,
   "metadata": {},
   "outputs": [
    {
     "name": "stdout",
     "output_type": "stream",
     "text": [
      "Fold RMSE: 43.0342\n",
      "Fold RMSE: 47.3337\n",
      "Fold RMSE: 27.8152\n",
      "Fold RMSE: 52.0384\n",
      "Fold RMSE: 38.2795\n",
      "Average RMSE across outer folds: 41.7002\n",
      "Standard deviation of RMSE: 8.3053\n"
     ]
    }
   ],
   "source": [
    "# Loading the data into numpy arrays\n",
    "X = np.loadtxt('../data/case1Data_X.csv', delimiter=',')\n",
    "y = np.loadtxt('../data/case1Data_y.csv', delimiter=',')\n",
    "\n",
    "# Function to solve the OLS\n",
    "def ols_solver(X, y):\n",
    "    betas, res, rnk, s = lng.lstsq(X, y)\n",
    "    return betas, res, rnk, s\n",
    "\n",
    "# Outer 5-fold cross-validation\n",
    "outer_cv = KFold(n_splits=5, shuffle=True, random_state=42)\n",
    "inner_cv = KFold(n_splits=5, shuffle=True, random_state=42)\n",
    "rmse_scores = []\n",
    "\n",
    "#### Outer loop ####\n",
    "for train_idx, test_idx in outer_cv.split(X, y):\n",
    "    X_train, X_test = X[train_idx], X[test_idx]\n",
    "    y_train, y_test = y[train_idx], y[test_idx]\n",
    "    \n",
    "    #### Data Preprocessing ####\n",
    "\n",
    "    # Convert the numpy arrays to pandas DataFrames\n",
    "    X_train = pd.DataFrame(X_train)\n",
    "    X_test = pd.DataFrame(X_test)\n",
    "\n",
    "    # Using StandardScaler from scikit-learn to standardize the data\n",
    "    scaler = StandardScaler()\n",
    "\n",
    "    # Standardizing the numerical features (all columns exept the last five)\n",
    "    X_train.iloc[:, :95] = scaler.fit_transform(X_train.iloc[:, :95])\n",
    "    X_test.iloc[:, :95] = scaler.transform(X_test.iloc[:, :95])\n",
    "\n",
    "    # class sklearn.impute.KNNImputer(*, missing_values=nan, n_neighbors=5, weights='uniform', metric='nan_euclidean', copy=True, add_indicator=False, keep_empty_features=False)\n",
    "    continuous_imputer = KNNImputer(n_neighbors=5, missing_values=np.nan)\n",
    "\n",
    "    # Fitting the imputer on the training data and transforming the training and test data\n",
    "    X_train.iloc[:, :95] = pd.DataFrame(continuous_imputer.fit_transform(X_train.iloc[:, :95]))\n",
    "    X_test.iloc[:, :95] = pd.DataFrame(continuous_imputer.transform(X_test.iloc[:, :95]))\n",
    "\n",
    "    # Mode Imputation: Using SimpleImputer from scikit-learn to impute the missing values in the data (for categorical variables) with the most frequent value\n",
    "    categorical_imputer = SimpleImputer(strategy='most_frequent')\n",
    "    \n",
    "    # Fitting the imputer on the training data and transforming the training and test data\n",
    "    X_train.iloc[:, -5:] = categorical_imputer.fit_transform(X_train.iloc[:, -5:])\n",
    "    X_test.iloc[:, -5:] = categorical_imputer.transform(X_test.iloc[:, -5:])\n",
    "    \n",
    "    # One-hot encoding the categorical variables using get_dummies from pandas library (for the last five columns)\n",
    "    X_train = pd.get_dummies(X_train, columns=X_train.columns[-5:])\n",
    "    X_test = pd.get_dummies(X_test, columns=X_test.columns[-5:])\n",
    "\n",
    "    # Align the columns of the training and test data\n",
    "    X_train, X_test = X_train.align(X_test, join='left', axis=1, fill_value=0)\n",
    "\n",
    "    # Convert the pandas DataFrames back to numpy arrays\n",
    "    X_train = np.asarray(X_train, dtype=np.float64)\n",
    "    X_test = np.asarray(X_test, dtype=np.float64)\n",
    "\n",
    "    #### Inner loop ####\n",
    "\n",
    "    with warnings.catch_warnings():  # Suppress convergence warnings\n",
    "        warnings.simplefilter(\"ignore\")\n",
    "        rmse_scores_inner = []\n",
    "        for train_idx_inner, test_idx_inner in inner_cv.split(X_train, y_train):\n",
    "            X_train_inner, X_test_inner = X_train[train_idx_inner], X_train[test_idx_inner]\n",
    "            y_train_inner, y_test_inner = y_train[train_idx_inner], y_train[test_idx_inner]\n",
    "\n",
    "            # Solve the OLS on the inner training set\n",
    "            betas, _, _, _ = ols_solver(X_train_inner, y_train_inner)\n",
    "\n",
    "            # Evaluate on the inner test set\n",
    "            y_pred_inner = X_test_inner @ betas\n",
    "\n",
    "            # Calculate the RMSE\n",
    "            rmse_inner = np.sqrt(mean_squared_error(y_test_inner, y_pred_inner))\n",
    "            rmse_scores_inner.append(rmse_inner)\n",
    "\n",
    "            # Saving the optimal model\n",
    "            if rmse_inner == min(rmse_scores_inner):\n",
    "                best_betas_inner = betas\n",
    "\n",
    "    #### Evaluation ####\n",
    "\n",
    "    # Predicting the target values on the test set using the optimal model\n",
    "    y_pred = X_test @ best_betas_inner\n",
    "\n",
    "    # Calculate the RMSE\n",
    "    rmse = np.sqrt(mean_squared_error(y_test, y_pred))\n",
    "    rmse_scores.append(rmse)\n",
    "\n",
    "    # Saving the optimal model\n",
    "    if rmse == min(rmse_scores):\n",
    "        best_betas = best_betas_inner\n",
    "\n",
    "    # Print the results of the inner loop\n",
    "    print(f'Fold RMSE: {rmse:.4f}')\n",
    "\n",
    "# Final performance\n",
    "print(f'Average RMSE across outer folds: {np.mean(rmse_scores):.4f}')\n",
    "# Standard deviation of the RMSE tells us how much the RMSE varies between the folds (i.e., how stable the model is)\n",
    "print(f'Standard deviation of RMSE: {np.std(rmse_scores):.4f}')\n"
   ]
  },
  {
   "cell_type": "markdown",
   "metadata": {},
   "source": [
    "# 3. Ridge (L2) Regression"
   ]
  },
  {
   "cell_type": "code",
   "execution_count": 3,
   "metadata": {},
   "outputs": [
    {
     "name": "stdout",
     "output_type": "stream",
     "text": [
      "Fold RMSE: 31.2889\n",
      "Fold RMSE: 32.0780\n",
      "Fold RMSE: 27.4197\n",
      "Fold RMSE: 37.2727\n",
      "Fold RMSE: 31.5272\n",
      "Average RMSE across outer folds: 31.9173\n",
      "Standard deviation of RMSE: 3.1458\n"
     ]
    }
   ],
   "source": [
    "# Loading the data into numpy arrays\n",
    "X = np.loadtxt('../data/case1Data_X.csv', delimiter=',')\n",
    "y = np.loadtxt('../data/case1Data_y.csv', delimiter=',')\n",
    "\n",
    "# Setting k for the number of lambdas to test\n",
    "k = 1000\n",
    "\n",
    "# Creating a list of lambdas to test\n",
    "lambdas = np.logspace(-1, 4, k)\n",
    "\n",
    "# Outer 5-fold cross-validation\n",
    "outer_cv = KFold(n_splits=5, shuffle=True, random_state=42)\n",
    "rmse_scores = []\n",
    "\n",
    "#### Outer loop ####\n",
    "for train_idx, test_idx in outer_cv.split(X, y):\n",
    "    X_train, X_test = X[train_idx], X[test_idx]\n",
    "    y_train, y_test = y[train_idx], y[test_idx]\n",
    "\n",
    "    #### Data Preprocessing ####\n",
    "\n",
    "    # Convert the numpy arrays to pandas DataFrames\n",
    "    X_train = pd.DataFrame(X_train)\n",
    "    X_test = pd.DataFrame(X_test)\n",
    "\n",
    "    # Using StandardScaler from scikit-learn to standardize the data\n",
    "    scaler = StandardScaler()\n",
    "\n",
    "    # Standardizing the numerical features (all columns exept the last five)\n",
    "    X_train.iloc[:, :95] = scaler.fit_transform(X_train.iloc[:, :95])\n",
    "    X_test.iloc[:, :95] = scaler.transform(X_test.iloc[:, :95])\n",
    "\n",
    "    # class sklearn.impute.KNNImputer(*, missing_values=nan, n_neighbors=5, weights='uniform', metric='nan_euclidean', copy=True, add_indicator=False, keep_empty_features=False)\n",
    "    continuous_imputer = KNNImputer(n_neighbors=5, missing_values=np.nan)\n",
    "\n",
    "    # Fitting the imputer on the training data and transforming the training and test data\n",
    "    X_train.iloc[:, :95] = pd.DataFrame(continuous_imputer.fit_transform(X_train.iloc[:, :95]))\n",
    "    X_test.iloc[:, :95] = pd.DataFrame(continuous_imputer.transform(X_test.iloc[:, :95]))\n",
    "\n",
    "    # Mode Imputation: Using SimpleImputer from scikit-learn to impute the missing values in the data (for categorical variables) with the most frequent value\n",
    "    categorical_imputer = SimpleImputer(strategy='most_frequent')\n",
    "    \n",
    "    # Fitting the imputer on the training data and transforming the training and test data\n",
    "    X_train.iloc[:, -5:] = categorical_imputer.fit_transform(X_train.iloc[:, -5:])\n",
    "    X_test.iloc[:, -5:] = categorical_imputer.transform(X_test.iloc[:, -5:])\n",
    "    \n",
    "    # One-hot encoding the categorical variables using get_dummies from pandas library (for the last five columns)\n",
    "    X_train = pd.get_dummies(X_train, columns=X_train.columns[-5:])\n",
    "    X_test = pd.get_dummies(X_test, columns=X_test.columns[-5:])\n",
    "\n",
    "    # Align the columns of the training and test data\n",
    "    X_train, X_test = X_train.align(X_test, join='left', axis=1, fill_value=0)\n",
    "\n",
    "    # Convert the pandas DataFrames back to numpy arrays\n",
    "    X_train = np.asarray(X_train, dtype=np.float64)\n",
    "    X_test = np.asarray(X_test, dtype=np.float64)\n",
    "\n",
    "    #### Inner loop ####\n",
    "    with warnings.catch_warnings():  # Suppress convergence warnings\n",
    "        warnings.simplefilter(\"ignore\")\n",
    "        # Fit the Ridge regression model on the training set using cross-validation to find the optimal lambda\n",
    "        model = RidgeCV(alphas=lambdas, store_cv_values=False, cv=5).fit(X_train, y_train)\n",
    "\n",
    "    #### Evaluation ####\n",
    "\n",
    "    # Predicting the target values on the test set using the optimal model\n",
    "    y_pred = model.predict(X_test)\n",
    "\n",
    "    # Calculate the RMSE\n",
    "    rmse = np.sqrt(mean_squared_error(y_test, y_pred))\n",
    "    rmse_scores.append(rmse)\n",
    "\n",
    "    # Saving the optimal model\n",
    "    if rmse == min(rmse_scores):\n",
    "        best_model = model\n",
    "\n",
    "    # Print the results of the inner loop\n",
    "    print(f'Fold RMSE: {rmse:.4f}')\n",
    "\n",
    "# Final performance\n",
    "print(f'Average RMSE across outer folds: {np.mean(rmse_scores):.4f}')\n",
    "# Standard deviation of the RMSE tells us how much the RMSE varies between the folds (i.e., how stable the model is)\n",
    "print(f'Standard deviation of RMSE: {np.std(rmse_scores):.4f}')"
   ]
  },
  {
   "cell_type": "markdown",
   "metadata": {},
   "source": [
    "# 4. Lasso (L1) Regression"
   ]
  },
  {
   "cell_type": "code",
   "execution_count": 13,
   "metadata": {},
   "outputs": [
    {
     "name": "stdout",
     "output_type": "stream",
     "text": [
      "Fold RMSE: 26.1366\n",
      "Fold RMSE: 23.3240\n",
      "Fold RMSE: 26.3223\n",
      "Fold RMSE: 25.8996\n",
      "Fold RMSE: 29.8694\n",
      "Average RMSE across outer folds: 26.3104\n",
      "Standard deviation of RMSE: 2.0873\n"
     ]
    }
   ],
   "source": [
    "# Loading the data into numpy arrays\n",
    "X = np.loadtxt('../data/case1Data_X.csv', delimiter=',')\n",
    "y = np.loadtxt('../data/case1Data_y.csv', delimiter=',')\n",
    "\n",
    "# Setting the range of alphas to test\n",
    "alphas = np.logspace(-4, 1, 100)\n",
    "\n",
    "# Outer 5-fold cross-validation\n",
    "outer_cv = KFold(n_splits=5, shuffle=True, random_state=42)\n",
    "rmse_scores = []\n",
    "models = []\n",
    "alpha_list = []\n",
    "\n",
    "#### Outer loop ####\n",
    "for train_idx, test_idx in outer_cv.split(X, y):\n",
    "    X_train, X_test = X[train_idx], X[test_idx]\n",
    "    y_train, y_test = y[train_idx], y[test_idx]\n",
    "\n",
    "    #### Data Preprocessing ####\n",
    "\n",
    "    # Convert the numpy arrays to pandas DataFrames\n",
    "    X_train = pd.DataFrame(X_train)\n",
    "    X_test = pd.DataFrame(X_test)\n",
    "\n",
    "    # Using StandardScaler from scikit-learn to standardize the data\n",
    "    scaler = StandardScaler()\n",
    "\n",
    "    # Standardizing the numerical features (all columns exept the last five)\n",
    "    X_train.iloc[:, :95] = scaler.fit_transform(X_train.iloc[:, :95])\n",
    "    X_test.iloc[:, :95] = scaler.transform(X_test.iloc[:, :95])\n",
    "\n",
    "    # class sklearn.impute.KNNImputer(*, missing_values=nan, n_neighbors=5, weights='uniform', metric='nan_euclidean', copy=True, add_indicator=False, keep_empty_features=False)\n",
    "    continuous_imputer = KNNImputer(n_neighbors=5, missing_values=np.nan)\n",
    "\n",
    "    # Fitting the imputer on the training data and transforming the training and test data\n",
    "    X_train.iloc[:, :95] = pd.DataFrame(continuous_imputer.fit_transform(X_train.iloc[:, :95]))\n",
    "    X_test.iloc[:, :95] = pd.DataFrame(continuous_imputer.transform(X_test.iloc[:, :95]))\n",
    "\n",
    "    # Mode Imputation: Using SimpleImputer from scikit-learn to impute the missing values in the data (for categorical variables) with the most frequent value\n",
    "    categorical_imputer = SimpleImputer(strategy='most_frequent')\n",
    "    \n",
    "    # Fitting the imputer on the training data and transforming the training and test data\n",
    "    X_train.iloc[:, -5:] = categorical_imputer.fit_transform(X_train.iloc[:, -5:])\n",
    "    X_test.iloc[:, -5:] = categorical_imputer.transform(X_test.iloc[:, -5:])\n",
    "    \n",
    "    # One-hot encoding the categorical variables using get_dummies from pandas library (for the last five columns)\n",
    "    X_train = pd.get_dummies(X_train, columns=X_train.columns[-5:])\n",
    "    X_test = pd.get_dummies(X_test, columns=X_test.columns[-5:])\n",
    "\n",
    "    # Align the columns of the training and test data\n",
    "    X_train, X_test = X_train.align(X_test, join='left', axis=1, fill_value=0)\n",
    "\n",
    "    # Convert the pandas DataFrames back to numpy arrays\n",
    "    X_train = np.asarray(X_train, dtype=np.float64)\n",
    "    X_test = np.asarray(X_test, dtype=np.float64)\n",
    "\n",
    "    # Inner loop for hyperparameter tuning (5-fold CV)\n",
    "    with warnings.catch_warnings():  # Suppress convergence warnings\n",
    "        warnings.simplefilter(\"ignore\")\n",
    "        # Fit the Lasso regression model on the training set using cross-validation to find the optimal\n",
    "        model = LassoCV(cv=5, alphas=alphas, fit_intercept=False, random_state=42).fit(X_train, y_train)\n",
    "\n",
    "        # Save the optimal penalization\n",
    "        alpha = model.alpha_\n",
    "\n",
    "    #### Evaluation ####\n",
    "\n",
    "    # Predicting the target values on the test set using the optimal model\n",
    "    y_pred = model.predict(X_test)\n",
    "\n",
    "    # Calculate the RMSE\n",
    "    rmse = np.sqrt(mean_squared_error(y_test, y_pred))\n",
    "    rmse_scores.append(rmse)\n",
    "\n",
    "    # Saving the model and the alpha\n",
    "    models.append(model)\n",
    "    alpha_list.append(alpha)\n",
    "\n",
    "    # Saving the optimal model\n",
    "    if rmse == min(rmse_scores):\n",
    "        best_model = model\n",
    "\n",
    "    # Print the results of the inner loop\n",
    "    print(f'Fold RMSE: {rmse:.4f}')\n",
    "\n",
    "# Final performance\n",
    "print(f'Average RMSE across outer folds: {np.mean(rmse_scores):.4f}')\n",
    "# Standard deviation of the RMSE tells us how much the RMSE varies between the folds (i.e., how stable the model is)\n",
    "print(f'Standard deviation of RMSE: {np.std(rmse_scores):.4f}')"
   ]
  },
  {
   "cell_type": "code",
   "execution_count": 15,
   "metadata": {},
   "outputs": [
    {
     "data": {
      "image/png": "[encoded data removed]",
      "text/plain": [
       "<Figure size 640x480 with 1 Axes>"
      ]
     },
     "metadata": {},
     "output_type": "display_data"
    },
    {
     "data": {
      "image/png": "[encoded data removed]",
      "text/plain": [
       "<Figure size 640x480 with 1 Axes>"
      ]
     },
     "metadata": {},
     "output_type": "display_data"
    }
   ],
   "source": [
    "# Plotting the RMSE scores, optimal alpha and optimal l1_ratio for each fold\n",
    "plt.close('all')\n",
    "plt.figure()\n",
    "plt.plot(rmse_scores, 'o-', label='RMSE', color='blue')\n",
    "plt.axhline(np.mean(rmse_scores), label='Average RMSE', color='red')\n",
    "plt.xlabel('Fold')\n",
    "plt.xticks(np.arange(5), np.arange(1, 6))\n",
    "plt.ylabel('RMSE')\n",
    "plt.title('RMSE for each fold')\n",
    "plt.legend()\n",
    "plt.savefig('../plots/lasso_RMSE.png')\n",
    "plt.show()\n",
    "\n",
    "plt.close('all')\n",
    "plt.figure()\n",
    "plt.plot(alpha_list, 'o-', label='Optimal alpha', color='green')\n",
    "plt.xticks(np.arange(5), np.arange(1, 6))\n",
    "plt.xlabel('Fold')\n",
    "plt.ylabel('Value')\n",
    "plt.title('Lasso', fontsize=16)\n",
    "plt.legend()\n",
    "plt.savefig('../plots/lasso_alpha.png')\n",
    "plt.show()"
   ]
  },
  {
   "cell_type": "markdown",
   "metadata": {},
   "source": [
    "## 5. Predicting $\\hat{y}$ in the new data set (case1Data_Xnew.csv) using a weighted average of the predictions from the Lasso regression models"
   ]
  },
  {
   "cell_type": "markdown",
   "metadata": {},
   "source": [
    "### Loading case1Data_Xnew_wrangled.csv"
   ]
  },
  {
   "cell_type": "code",
   "execution_count": 16,
   "metadata": {},
   "outputs": [
    {
     "name": "stdout",
     "output_type": "stream",
     "text": [
      "X_new:  (1000, 116)\n"
     ]
    }
   ],
   "source": [
    "# Loading the data into numpy arrays\n",
    "X_new = np.loadtxt('../data/case1Data_Xnew_wrangled.csv', delimiter=',')\n",
    "print(\"X_new: \", X_new.shape)"
   ]
  },
  {
   "cell_type": "markdown",
   "metadata": {},
   "source": [
    "### Predicting and saving predictions in a new file"
   ]
  },
  {
   "cell_type": "code",
   "execution_count": 17,
   "metadata": {},
   "outputs": [
    {
     "name": "stdout",
     "output_type": "stream",
     "text": [
      "RMSE: [26.136577563066943, 23.324008463554453, 26.32233310330283, 25.89964533431513, 29.869367756869206]\n",
      "Inverse RMSE: [0.03826056 0.04287428 0.03799055 0.03861057 0.03347912]\n",
      "Weights: [0.20009174 0.22422018 0.1986797  0.2019222  0.17508618]\n",
      "Sum of weights: 0.9999999999999999\n"
     ]
    }
   ],
   "source": [
    "#### Predicting y_hat for the data in case1Data_Xnew.csv using a weighted ensemble of the models ####\n",
    "\n",
    "# Computing inverse RMSE weights for the models (the lower the RMSE, the higher the weight)\n",
    "inverse_rmse = 1 / np.array(rmse_scores)\n",
    "\n",
    "# Closing the weights to sum up to 1\n",
    "weights = inverse_rmse / np.sum(inverse_rmse)\n",
    "\n",
    "# Printing the weights\n",
    "print(f'RMSE: {rmse_scores}')\n",
    "print(f'Inverse RMSE: {inverse_rmse}')\n",
    "print(f'Weights: {weights}')\n",
    "print(f'Sum of weights: {np.sum(weights)}')\n",
    "\n",
    "# Computing weighted ensemble prediction\n",
    "y_hat_new_ensemble = np.zeros(X_new.shape[0])\n",
    "for model, weight in zip(models, weights):\n",
    "    y_hat_new_ensemble += weight * model.predict(X_new)\n",
    "\n",
    "# Saving the predictions to a csv file\n",
    "np.savetxt('../results/sample_predictions_s183220_s225001.csv', y_hat_new_ensemble, fmt='%.4f', delimiter='\\n')"
   ]
  },
  {
   "cell_type": "markdown",
   "metadata": {},
   "source": [
    "### Writing the Estimated RMSE to File"
   ]
  },
  {
   "cell_type": "code",
   "execution_count": 18,
   "metadata": {},
   "outputs": [
    {
     "name": "stdout",
     "output_type": "stream",
     "text": [
      "Expected RMSE: 26.31\n"
     ]
    }
   ],
   "source": [
    "# We will use the average RMSE across the outer folds as the expected RMSE\n",
    "# Saving the value as float with 2 decimals precision\n",
    "print(f'Expected RMSE: {np.mean(rmse_scores):.2f}')\n",
    "np.savetxt('../results/sample_estimatedRMSE_s183220_s225001.csv', [np.mean(rmse_scores)], fmt='%.2f')"
   ]
  }
 ],
 "metadata": {
  "kernelspec": {
   "display_name": "base",
   "language": "python",
   "name": "python3"
  },
  "language_info": {
   "codemirror_mode": {
    "name": "ipython",
    "version": 3
   },
   "file_extension": ".py",
   "mimetype": "text/x-python",
   "name": "python",
   "nbconvert_exporter": "python",
   "pygments_lexer": "ipython3",
   "version": "3.12.3"
  }
 },
 "nbformat": 4,
 "nbformat_minor": 2
}
